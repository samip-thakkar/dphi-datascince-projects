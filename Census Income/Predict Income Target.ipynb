{
 "cells": [
  {
   "cell_type": "markdown",
   "metadata": {},
   "source": [
    "### Your task is to build machine learning models to predict the income level (target variable) of the related collaborators in the evaluation set, being 0 a collaborator who has an income less than 50,000 USD annually, and 1 a collaborator who has an income equal to or greater than 50,000 USD annually."
   ]
  },
  {
   "cell_type": "code",
   "execution_count": 1,
   "metadata": {},
   "outputs": [],
   "source": [
    "#Import the libraries\n",
    "import pandas as pd\n",
    "import numpy as np\n",
    "import matplotlib.pyplot as plt\n",
    "import seaborn as sns"
   ]
  },
  {
   "cell_type": "code",
   "execution_count": 2,
   "metadata": {},
   "outputs": [
    {
     "data": {
      "text/html": [
       "<div>\n",
       "<style scoped>\n",
       "    .dataframe tbody tr th:only-of-type {\n",
       "        vertical-align: middle;\n",
       "    }\n",
       "\n",
       "    .dataframe tbody tr th {\n",
       "        vertical-align: top;\n",
       "    }\n",
       "\n",
       "    .dataframe thead th {\n",
       "        text-align: right;\n",
       "    }\n",
       "</style>\n",
       "<table border=\"1\" class=\"dataframe\">\n",
       "  <thead>\n",
       "    <tr style=\"text-align: right;\">\n",
       "      <th></th>\n",
       "      <th>age</th>\n",
       "      <th>class_of_worker</th>\n",
       "      <th>industry_code</th>\n",
       "      <th>occupation_code</th>\n",
       "      <th>education</th>\n",
       "      <th>wage_per_hour</th>\n",
       "      <th>enrolled_in_edu_inst_lastwk</th>\n",
       "      <th>marital_status</th>\n",
       "      <th>major_industry_code</th>\n",
       "      <th>major_occupation_code</th>\n",
       "      <th>...</th>\n",
       "      <th>country_father</th>\n",
       "      <th>country_mother</th>\n",
       "      <th>country_self</th>\n",
       "      <th>citizenship</th>\n",
       "      <th>business_or_self_employed</th>\n",
       "      <th>fill_questionnaire_veteran_admin</th>\n",
       "      <th>veterans_benefits</th>\n",
       "      <th>weeks_worked_in_year</th>\n",
       "      <th>year</th>\n",
       "      <th>income_level</th>\n",
       "    </tr>\n",
       "  </thead>\n",
       "  <tbody>\n",
       "    <tr>\n",
       "      <th>0</th>\n",
       "      <td>23</td>\n",
       "      <td>Private</td>\n",
       "      <td>43</td>\n",
       "      <td>22</td>\n",
       "      <td>Some college but no degree</td>\n",
       "      <td>0</td>\n",
       "      <td>College or university</td>\n",
       "      <td>Never married</td>\n",
       "      <td>Education</td>\n",
       "      <td>Adm support including clerical</td>\n",
       "      <td>...</td>\n",
       "      <td>Peru</td>\n",
       "      <td>Peru</td>\n",
       "      <td>United-States</td>\n",
       "      <td>Native- Born in the United States</td>\n",
       "      <td>0</td>\n",
       "      <td>Not in universe</td>\n",
       "      <td>2</td>\n",
       "      <td>30</td>\n",
       "      <td>95</td>\n",
       "      <td>0</td>\n",
       "    </tr>\n",
       "    <tr>\n",
       "      <th>1</th>\n",
       "      <td>24</td>\n",
       "      <td>Private</td>\n",
       "      <td>34</td>\n",
       "      <td>2</td>\n",
       "      <td>Bachelors degree(BA AB BS)</td>\n",
       "      <td>0</td>\n",
       "      <td>Not in universe</td>\n",
       "      <td>Never married</td>\n",
       "      <td>Finance insurance and real estate</td>\n",
       "      <td>Executive admin and managerial</td>\n",
       "      <td>...</td>\n",
       "      <td>United-States</td>\n",
       "      <td>United-States</td>\n",
       "      <td>United-States</td>\n",
       "      <td>Native- Born in the United States</td>\n",
       "      <td>0</td>\n",
       "      <td>Not in universe</td>\n",
       "      <td>2</td>\n",
       "      <td>26</td>\n",
       "      <td>94</td>\n",
       "      <td>0</td>\n",
       "    </tr>\n",
       "    <tr>\n",
       "      <th>2</th>\n",
       "      <td>38</td>\n",
       "      <td>Private</td>\n",
       "      <td>34</td>\n",
       "      <td>2</td>\n",
       "      <td>Masters degree(MA MS MEng MEd MSW MBA)</td>\n",
       "      <td>0</td>\n",
       "      <td>Not in universe</td>\n",
       "      <td>Married-civilian spouse present</td>\n",
       "      <td>Finance insurance and real estate</td>\n",
       "      <td>Executive admin and managerial</td>\n",
       "      <td>...</td>\n",
       "      <td>United-States</td>\n",
       "      <td>United-States</td>\n",
       "      <td>United-States</td>\n",
       "      <td>Native- Born in the United States</td>\n",
       "      <td>0</td>\n",
       "      <td>Not in universe</td>\n",
       "      <td>2</td>\n",
       "      <td>52</td>\n",
       "      <td>94</td>\n",
       "      <td>1</td>\n",
       "    </tr>\n",
       "    <tr>\n",
       "      <th>3</th>\n",
       "      <td>33</td>\n",
       "      <td>Not in universe</td>\n",
       "      <td>0</td>\n",
       "      <td>0</td>\n",
       "      <td>High school graduate</td>\n",
       "      <td>0</td>\n",
       "      <td>Not in universe</td>\n",
       "      <td>Married-civilian spouse present</td>\n",
       "      <td>Not in universe or children</td>\n",
       "      <td>Not in universe</td>\n",
       "      <td>...</td>\n",
       "      <td>United-States</td>\n",
       "      <td>United-States</td>\n",
       "      <td>United-States</td>\n",
       "      <td>Native- Born in the United States</td>\n",
       "      <td>0</td>\n",
       "      <td>Not in universe</td>\n",
       "      <td>2</td>\n",
       "      <td>0</td>\n",
       "      <td>95</td>\n",
       "      <td>0</td>\n",
       "    </tr>\n",
       "    <tr>\n",
       "      <th>4</th>\n",
       "      <td>13</td>\n",
       "      <td>Not in universe</td>\n",
       "      <td>0</td>\n",
       "      <td>0</td>\n",
       "      <td>Children</td>\n",
       "      <td>0</td>\n",
       "      <td>Not in universe</td>\n",
       "      <td>Never married</td>\n",
       "      <td>Not in universe or children</td>\n",
       "      <td>Not in universe</td>\n",
       "      <td>...</td>\n",
       "      <td>United-States</td>\n",
       "      <td>United-States</td>\n",
       "      <td>United-States</td>\n",
       "      <td>Native- Born in the United States</td>\n",
       "      <td>0</td>\n",
       "      <td>Not in universe</td>\n",
       "      <td>0</td>\n",
       "      <td>0</td>\n",
       "      <td>95</td>\n",
       "      <td>0</td>\n",
       "    </tr>\n",
       "  </tbody>\n",
       "</table>\n",
       "<p>5 rows × 41 columns</p>\n",
       "</div>"
      ],
      "text/plain": [
       "   age  class_of_worker  industry_code  occupation_code  \\\n",
       "0   23          Private             43               22   \n",
       "1   24          Private             34                2   \n",
       "2   38          Private             34                2   \n",
       "3   33  Not in universe              0                0   \n",
       "4   13  Not in universe              0                0   \n",
       "\n",
       "                                education  wage_per_hour  \\\n",
       "0              Some college but no degree              0   \n",
       "1              Bachelors degree(BA AB BS)              0   \n",
       "2  Masters degree(MA MS MEng MEd MSW MBA)              0   \n",
       "3                    High school graduate              0   \n",
       "4                                Children              0   \n",
       "\n",
       "  enrolled_in_edu_inst_lastwk                   marital_status  \\\n",
       "0       College or university                    Never married   \n",
       "1             Not in universe                    Never married   \n",
       "2             Not in universe  Married-civilian spouse present   \n",
       "3             Not in universe  Married-civilian spouse present   \n",
       "4             Not in universe                    Never married   \n",
       "\n",
       "                 major_industry_code           major_occupation_code  ...  \\\n",
       "0                          Education  Adm support including clerical  ...   \n",
       "1  Finance insurance and real estate  Executive admin and managerial  ...   \n",
       "2  Finance insurance and real estate  Executive admin and managerial  ...   \n",
       "3        Not in universe or children                 Not in universe  ...   \n",
       "4        Not in universe or children                 Not in universe  ...   \n",
       "\n",
       "  country_father country_mother   country_self  \\\n",
       "0           Peru           Peru  United-States   \n",
       "1  United-States  United-States  United-States   \n",
       "2  United-States  United-States  United-States   \n",
       "3  United-States  United-States  United-States   \n",
       "4  United-States  United-States  United-States   \n",
       "\n",
       "                         citizenship business_or_self_employed  \\\n",
       "0  Native- Born in the United States                         0   \n",
       "1  Native- Born in the United States                         0   \n",
       "2  Native- Born in the United States                         0   \n",
       "3  Native- Born in the United States                         0   \n",
       "4  Native- Born in the United States                         0   \n",
       "\n",
       "  fill_questionnaire_veteran_admin  veterans_benefits  weeks_worked_in_year  \\\n",
       "0                  Not in universe                  2                    30   \n",
       "1                  Not in universe                  2                    26   \n",
       "2                  Not in universe                  2                    52   \n",
       "3                  Not in universe                  2                     0   \n",
       "4                  Not in universe                  0                     0   \n",
       "\n",
       "   year income_level  \n",
       "0    95            0  \n",
       "1    94            0  \n",
       "2    94            1  \n",
       "3    95            0  \n",
       "4    95            0  \n",
       "\n",
       "[5 rows x 41 columns]"
      ]
     },
     "execution_count": 2,
     "metadata": {},
     "output_type": "execute_result"
    }
   ],
   "source": [
    "#Read the data\n",
    "data = pd.read_csv(\"https://raw.githubusercontent.com/dphi-official/Datasets/master/Census_Income/Training_set_census.csv\", delimiter=' *, *', engine='python')\n",
    "data = data.replace('?', 'qm')\n",
    "data.head()"
   ]
  },
  {
   "cell_type": "code",
   "execution_count": 3,
   "metadata": {},
   "outputs": [
    {
     "data": {
      "text/html": [
       "<div>\n",
       "<style scoped>\n",
       "    .dataframe tbody tr th:only-of-type {\n",
       "        vertical-align: middle;\n",
       "    }\n",
       "\n",
       "    .dataframe tbody tr th {\n",
       "        vertical-align: top;\n",
       "    }\n",
       "\n",
       "    .dataframe thead th {\n",
       "        text-align: right;\n",
       "    }\n",
       "</style>\n",
       "<table border=\"1\" class=\"dataframe\">\n",
       "  <thead>\n",
       "    <tr style=\"text-align: right;\">\n",
       "      <th></th>\n",
       "      <th>age</th>\n",
       "      <th>class_of_worker</th>\n",
       "      <th>industry_code</th>\n",
       "      <th>occupation_code</th>\n",
       "      <th>education</th>\n",
       "      <th>wage_per_hour</th>\n",
       "      <th>enrolled_in_edu_inst_lastwk</th>\n",
       "      <th>marital_status</th>\n",
       "      <th>major_industry_code</th>\n",
       "      <th>major_occupation_code</th>\n",
       "      <th>...</th>\n",
       "      <th>family_members_under_18</th>\n",
       "      <th>country_father</th>\n",
       "      <th>country_mother</th>\n",
       "      <th>country_self</th>\n",
       "      <th>citizenship</th>\n",
       "      <th>business_or_self_employed</th>\n",
       "      <th>fill_questionnaire_veteran_admin</th>\n",
       "      <th>veterans_benefits</th>\n",
       "      <th>weeks_worked_in_year</th>\n",
       "      <th>year</th>\n",
       "    </tr>\n",
       "  </thead>\n",
       "  <tbody>\n",
       "    <tr>\n",
       "      <th>0</th>\n",
       "      <td>65</td>\n",
       "      <td>Not in universe</td>\n",
       "      <td>0</td>\n",
       "      <td>0</td>\n",
       "      <td>12th grade no diploma</td>\n",
       "      <td>0</td>\n",
       "      <td>Not in universe</td>\n",
       "      <td>Married-civilian spouse present</td>\n",
       "      <td>Not in universe or children</td>\n",
       "      <td>Not in universe</td>\n",
       "      <td>...</td>\n",
       "      <td>Not in universe</td>\n",
       "      <td>United-States</td>\n",
       "      <td>United-States</td>\n",
       "      <td>United-States</td>\n",
       "      <td>Native- Born in the United States</td>\n",
       "      <td>0</td>\n",
       "      <td>Not in universe</td>\n",
       "      <td>2</td>\n",
       "      <td>0</td>\n",
       "      <td>94</td>\n",
       "    </tr>\n",
       "    <tr>\n",
       "      <th>1</th>\n",
       "      <td>75</td>\n",
       "      <td>Not in universe</td>\n",
       "      <td>0</td>\n",
       "      <td>0</td>\n",
       "      <td>Bachelors degree(BA AB BS)</td>\n",
       "      <td>0</td>\n",
       "      <td>Not in universe</td>\n",
       "      <td>Divorced</td>\n",
       "      <td>Not in universe or children</td>\n",
       "      <td>Not in universe</td>\n",
       "      <td>...</td>\n",
       "      <td>Not in universe</td>\n",
       "      <td>France</td>\n",
       "      <td>NaN</td>\n",
       "      <td>United-States</td>\n",
       "      <td>Native- Born in the United States</td>\n",
       "      <td>0</td>\n",
       "      <td>Not in universe</td>\n",
       "      <td>2</td>\n",
       "      <td>0</td>\n",
       "      <td>95</td>\n",
       "    </tr>\n",
       "    <tr>\n",
       "      <th>2</th>\n",
       "      <td>26</td>\n",
       "      <td>Not in universe</td>\n",
       "      <td>0</td>\n",
       "      <td>0</td>\n",
       "      <td>High school graduate</td>\n",
       "      <td>0</td>\n",
       "      <td>Not in universe</td>\n",
       "      <td>Married-civilian spouse present</td>\n",
       "      <td>Not in universe or children</td>\n",
       "      <td>Not in universe</td>\n",
       "      <td>...</td>\n",
       "      <td>Not in universe</td>\n",
       "      <td>United-States</td>\n",
       "      <td>United-States</td>\n",
       "      <td>United-States</td>\n",
       "      <td>Native- Born in the United States</td>\n",
       "      <td>0</td>\n",
       "      <td>Not in universe</td>\n",
       "      <td>2</td>\n",
       "      <td>0</td>\n",
       "      <td>94</td>\n",
       "    </tr>\n",
       "    <tr>\n",
       "      <th>3</th>\n",
       "      <td>42</td>\n",
       "      <td>Self-employed-incorporated</td>\n",
       "      <td>2</td>\n",
       "      <td>43</td>\n",
       "      <td>Bachelors degree(BA AB BS)</td>\n",
       "      <td>0</td>\n",
       "      <td>Not in universe</td>\n",
       "      <td>Married-civilian spouse present</td>\n",
       "      <td>Agriculture</td>\n",
       "      <td>Farming forestry and fishing</td>\n",
       "      <td>...</td>\n",
       "      <td>Not in universe</td>\n",
       "      <td>United-States</td>\n",
       "      <td>United-States</td>\n",
       "      <td>United-States</td>\n",
       "      <td>Native- Born in the United States</td>\n",
       "      <td>0</td>\n",
       "      <td>Not in universe</td>\n",
       "      <td>2</td>\n",
       "      <td>52</td>\n",
       "      <td>95</td>\n",
       "    </tr>\n",
       "    <tr>\n",
       "      <th>4</th>\n",
       "      <td>35</td>\n",
       "      <td>Private</td>\n",
       "      <td>33</td>\n",
       "      <td>26</td>\n",
       "      <td>Some college but no degree</td>\n",
       "      <td>0</td>\n",
       "      <td>Not in universe</td>\n",
       "      <td>Married-civilian spouse present</td>\n",
       "      <td>Retail trade</td>\n",
       "      <td>Adm support including clerical</td>\n",
       "      <td>...</td>\n",
       "      <td>Not in universe</td>\n",
       "      <td>United-States</td>\n",
       "      <td>United-States</td>\n",
       "      <td>United-States</td>\n",
       "      <td>Native- Born in the United States</td>\n",
       "      <td>0</td>\n",
       "      <td>Not in universe</td>\n",
       "      <td>2</td>\n",
       "      <td>52</td>\n",
       "      <td>94</td>\n",
       "    </tr>\n",
       "  </tbody>\n",
       "</table>\n",
       "<p>5 rows × 40 columns</p>\n",
       "</div>"
      ],
      "text/plain": [
       "   age             class_of_worker  industry_code  occupation_code  \\\n",
       "0   65             Not in universe              0                0   \n",
       "1   75             Not in universe              0                0   \n",
       "2   26             Not in universe              0                0   \n",
       "3   42  Self-employed-incorporated              2               43   \n",
       "4   35                     Private             33               26   \n",
       "\n",
       "                    education  wage_per_hour enrolled_in_edu_inst_lastwk  \\\n",
       "0       12th grade no diploma              0             Not in universe   \n",
       "1  Bachelors degree(BA AB BS)              0             Not in universe   \n",
       "2        High school graduate              0             Not in universe   \n",
       "3  Bachelors degree(BA AB BS)              0             Not in universe   \n",
       "4  Some college but no degree              0             Not in universe   \n",
       "\n",
       "                    marital_status          major_industry_code  \\\n",
       "0  Married-civilian spouse present  Not in universe or children   \n",
       "1                         Divorced  Not in universe or children   \n",
       "2  Married-civilian spouse present  Not in universe or children   \n",
       "3  Married-civilian spouse present                  Agriculture   \n",
       "4  Married-civilian spouse present                 Retail trade   \n",
       "\n",
       "            major_occupation_code  ... family_members_under_18 country_father  \\\n",
       "0                 Not in universe  ...         Not in universe  United-States   \n",
       "1                 Not in universe  ...         Not in universe         France   \n",
       "2                 Not in universe  ...         Not in universe  United-States   \n",
       "3    Farming forestry and fishing  ...         Not in universe  United-States   \n",
       "4  Adm support including clerical  ...         Not in universe  United-States   \n",
       "\n",
       "  country_mother   country_self                        citizenship  \\\n",
       "0  United-States  United-States  Native- Born in the United States   \n",
       "1            NaN  United-States  Native- Born in the United States   \n",
       "2  United-States  United-States  Native- Born in the United States   \n",
       "3  United-States  United-States  Native- Born in the United States   \n",
       "4  United-States  United-States  Native- Born in the United States   \n",
       "\n",
       "  business_or_self_employed  fill_questionnaire_veteran_admin  \\\n",
       "0                         0                   Not in universe   \n",
       "1                         0                   Not in universe   \n",
       "2                         0                   Not in universe   \n",
       "3                         0                   Not in universe   \n",
       "4                         0                   Not in universe   \n",
       "\n",
       "   veterans_benefits  weeks_worked_in_year year  \n",
       "0                  2                     0   94  \n",
       "1                  2                     0   95  \n",
       "2                  2                     0   94  \n",
       "3                  2                    52   95  \n",
       "4                  2                    52   94  \n",
       "\n",
       "[5 rows x 40 columns]"
      ]
     },
     "execution_count": 3,
     "metadata": {},
     "output_type": "execute_result"
    }
   ],
   "source": [
    "#Get the test data\n",
    "test_data = pd.read_csv('https://raw.githubusercontent.com/dphi-official/Datasets/master/Census_Income/Testing_set_census.csv', delimiter=' *, *', engine='python')\n",
    "test_data = test_data.replace('?', 'qm')\n",
    "test_data.head()"
   ]
  },
  {
   "cell_type": "markdown",
   "metadata": {},
   "source": [
    "#### Train data analysis"
   ]
  },
  {
   "cell_type": "code",
   "execution_count": 4,
   "metadata": {},
   "outputs": [
    {
     "name": "stdout",
     "output_type": "stream",
     "text": [
      "<class 'pandas.core.frame.DataFrame'>\n",
      "RangeIndex: 200000 entries, 0 to 199999\n",
      "Data columns (total 41 columns):\n",
      " #   Column                            Non-Null Count   Dtype \n",
      "---  ------                            --------------   ----- \n",
      " 0   age                               200000 non-null  int64 \n",
      " 1   class_of_worker                   200000 non-null  object\n",
      " 2   industry_code                     200000 non-null  int64 \n",
      " 3   occupation_code                   200000 non-null  int64 \n",
      " 4   education                         200000 non-null  object\n",
      " 5   wage_per_hour                     200000 non-null  int64 \n",
      " 6   enrolled_in_edu_inst_lastwk       200000 non-null  object\n",
      " 7   marital_status                    200000 non-null  object\n",
      " 8   major_industry_code               200000 non-null  object\n",
      " 9   major_occupation_code             200000 non-null  object\n",
      " 10  race                              200000 non-null  object\n",
      " 11  hispanic_origin                   199145 non-null  object\n",
      " 12  sex                               200000 non-null  object\n",
      " 13  member_of_labor_union             200000 non-null  object\n",
      " 14  reason_for_unemployment           200000 non-null  object\n",
      " 15  full_parttime_employment_stat     200000 non-null  object\n",
      " 16  capital_gains                     200000 non-null  int64 \n",
      " 17  capital_losses                    200000 non-null  int64 \n",
      " 18  dividend_from_Stocks              200000 non-null  int64 \n",
      " 19  tax_filer_status                  200000 non-null  object\n",
      " 20  region_of_previous_residence      200000 non-null  object\n",
      " 21  state_of_previous_residence       199523 non-null  object\n",
      " 22  d_household_family_stat           200000 non-null  object\n",
      " 23  d_household_summary               200000 non-null  object\n",
      " 24  migration_msa                     133327 non-null  object\n",
      " 25  migration_reg                     133327 non-null  object\n",
      " 26  migration_within_reg              133327 non-null  object\n",
      " 27  live_1_year_ago                   200000 non-null  object\n",
      " 28  migration_sunbelt                 133327 non-null  object\n",
      " 29  num_person_Worked_employer        200000 non-null  int64 \n",
      " 30  family_members_under_18           200000 non-null  object\n",
      " 31  country_father                    195478 non-null  object\n",
      " 32  country_mother                    195864 non-null  object\n",
      " 33  country_self                      197688 non-null  object\n",
      " 34  citizenship                       200000 non-null  object\n",
      " 35  business_or_self_employed         200000 non-null  int64 \n",
      " 36  fill_questionnaire_veteran_admin  200000 non-null  object\n",
      " 37  veterans_benefits                 200000 non-null  int64 \n",
      " 38  weeks_worked_in_year              200000 non-null  int64 \n",
      " 39  year                              200000 non-null  int64 \n",
      " 40  income_level                      200000 non-null  int64 \n",
      "dtypes: int64(13), object(28)\n",
      "memory usage: 62.6+ MB\n"
     ]
    }
   ],
   "source": [
    "#Get the info of data\n",
    "data.info()"
   ]
  },
  {
   "cell_type": "code",
   "execution_count": 5,
   "metadata": {},
   "outputs": [
    {
     "data": {
      "text/plain": [
       "age                                     0\n",
       "class_of_worker                         0\n",
       "industry_code                           0\n",
       "occupation_code                         0\n",
       "education                               0\n",
       "wage_per_hour                           0\n",
       "enrolled_in_edu_inst_lastwk             0\n",
       "marital_status                          0\n",
       "major_industry_code                     0\n",
       "major_occupation_code                   0\n",
       "race                                    0\n",
       "hispanic_origin                       855\n",
       "sex                                     0\n",
       "member_of_labor_union                   0\n",
       "reason_for_unemployment                 0\n",
       "full_parttime_employment_stat           0\n",
       "capital_gains                           0\n",
       "capital_losses                          0\n",
       "dividend_from_Stocks                    0\n",
       "tax_filer_status                        0\n",
       "region_of_previous_residence            0\n",
       "state_of_previous_residence           477\n",
       "d_household_family_stat                 0\n",
       "d_household_summary                     0\n",
       "migration_msa                       66673\n",
       "migration_reg                       66673\n",
       "migration_within_reg                66673\n",
       "live_1_year_ago                         0\n",
       "migration_sunbelt                   66673\n",
       "num_person_Worked_employer              0\n",
       "family_members_under_18                 0\n",
       "country_father                       4522\n",
       "country_mother                       4136\n",
       "country_self                         2312\n",
       "citizenship                             0\n",
       "business_or_self_employed               0\n",
       "fill_questionnaire_veteran_admin        0\n",
       "veterans_benefits                       0\n",
       "weeks_worked_in_year                    0\n",
       "year                                    0\n",
       "income_level                            0\n",
       "dtype: int64"
      ]
     },
     "execution_count": 5,
     "metadata": {},
     "output_type": "execute_result"
    }
   ],
   "source": [
    "#Check the null entries\n",
    "data.isna().sum()"
   ]
  },
  {
   "cell_type": "code",
   "execution_count": 6,
   "metadata": {},
   "outputs": [
    {
     "data": {
      "text/plain": [
       "Nonmover                          20615\n",
       "qm                                 8496\n",
       "Same county                        2371\n",
       "Different county same state         703\n",
       "Not in universe                     349\n",
       "Different region                    299\n",
       "Different state same division       231\n",
       "Abroad                              112\n",
       "Different division same region      100\n",
       "Name: migration_reg, dtype: int64"
      ]
     },
     "execution_count": 6,
     "metadata": {},
     "output_type": "execute_result"
    }
   ],
   "source": [
    "#View a sample column\n",
    "test_data['migration_reg'].value_counts()"
   ]
  },
  {
   "cell_type": "code",
   "execution_count": 7,
   "metadata": {},
   "outputs": [
    {
     "data": {
      "text/plain": [
       "All other                    172545\n",
       "Mexican-American               8057\n",
       "Mexican (Mexicano)             7157\n",
       "Central or South American      3916\n",
       "Puerto Rican                   3220\n",
       "Other Spanish                  2511\n",
       "Cuban                          1140\n",
       "Chicano                         304\n",
       "Do not know                     295\n",
       "Name: hispanic_origin, dtype: int64"
      ]
     },
     "execution_count": 7,
     "metadata": {},
     "output_type": "execute_result"
    }
   ],
   "source": [
    "data['hispanic_origin'].value_counts()"
   ]
  },
  {
   "cell_type": "code",
   "execution_count": 8,
   "metadata": {},
   "outputs": [
    {
     "name": "stdout",
     "output_type": "stream",
     "text": [
      "['enrolled_in_edu_inst_lastwk', 'country_mother', 'reason_for_unemployment', 'member_of_labor_union', 'migration_within_reg', 'marital_status', 'sex', 'hispanic_origin', 'migration_msa', 'family_members_under_18', 'race', 'state_of_previous_residence', 'country_self', 'class_of_worker', 'fill_questionnaire_veteran_admin', 'region_of_previous_residence', 'd_household_summary', 'full_parttime_employment_stat', 'migration_reg', 'citizenship', 'country_father', 'major_industry_code', 'education', 'live_1_year_ago', 'tax_filer_status', 'd_household_family_stat', 'migration_sunbelt', 'major_occupation_code']\n"
     ]
    }
   ],
   "source": [
    "#Get the numeric and categorical columns\n",
    "num_cols = data.select_dtypes(include=np.number).columns.tolist()\n",
    "cat_cols = list(set(data.columns) - set(num_cols))\n",
    "print(cat_cols)"
   ]
  },
  {
   "cell_type": "code",
   "execution_count": 9,
   "metadata": {},
   "outputs": [
    {
     "data": {
      "text/plain": [
       "age                                 0\n",
       "class_of_worker                     0\n",
       "industry_code                       0\n",
       "occupation_code                     0\n",
       "education                           0\n",
       "wage_per_hour                       0\n",
       "enrolled_in_edu_inst_lastwk         0\n",
       "marital_status                      0\n",
       "major_industry_code                 0\n",
       "major_occupation_code               0\n",
       "race                                0\n",
       "hispanic_origin                     0\n",
       "sex                                 0\n",
       "member_of_labor_union               0\n",
       "reason_for_unemployment             0\n",
       "full_parttime_employment_stat       0\n",
       "capital_gains                       0\n",
       "capital_losses                      0\n",
       "dividend_from_Stocks                0\n",
       "tax_filer_status                    0\n",
       "region_of_previous_residence        0\n",
       "state_of_previous_residence         0\n",
       "d_household_family_stat             0\n",
       "d_household_summary                 0\n",
       "migration_msa                       0\n",
       "migration_reg                       0\n",
       "migration_within_reg                0\n",
       "live_1_year_ago                     0\n",
       "migration_sunbelt                   0\n",
       "num_person_Worked_employer          0\n",
       "family_members_under_18             0\n",
       "country_father                      0\n",
       "country_mother                      0\n",
       "country_self                        0\n",
       "citizenship                         0\n",
       "business_or_self_employed           0\n",
       "fill_questionnaire_veteran_admin    0\n",
       "veterans_benefits                   0\n",
       "weeks_worked_in_year                0\n",
       "year                                0\n",
       "income_level                        0\n",
       "dtype: int64"
      ]
     },
     "execution_count": 9,
     "metadata": {},
     "output_type": "execute_result"
    }
   ],
   "source": [
    "#Remove the null values train data \n",
    "for col in cat_cols:\n",
    "    data[col] = data[col].fillna(data[col].value_counts()[0])\n",
    "data.isna().sum()"
   ]
  },
  {
   "cell_type": "markdown",
   "metadata": {},
   "source": [
    "#### Test data analysis"
   ]
  },
  {
   "cell_type": "code",
   "execution_count": 10,
   "metadata": {},
   "outputs": [
    {
     "data": {
      "text/plain": [
       "age                                     0\n",
       "class_of_worker                         0\n",
       "industry_code                           0\n",
       "occupation_code                         0\n",
       "education                               0\n",
       "wage_per_hour                           0\n",
       "enrolled_in_edu_inst_lastwk             0\n",
       "marital_status                          0\n",
       "major_industry_code                     0\n",
       "major_occupation_code                   0\n",
       "race                                    0\n",
       "hispanic_origin                       226\n",
       "sex                                     0\n",
       "member_of_labor_union                   0\n",
       "reason_for_unemployment                 0\n",
       "full_parttime_employment_stat           0\n",
       "capital_gains                           0\n",
       "capital_losses                          0\n",
       "dividend_from_Stocks                    0\n",
       "tax_filer_status                        0\n",
       "region_of_previous_residence            0\n",
       "state_of_previous_residence           117\n",
       "d_household_family_stat                 0\n",
       "d_household_summary                     0\n",
       "migration_msa                       16724\n",
       "migration_reg                       16724\n",
       "migration_within_reg                16724\n",
       "live_1_year_ago                         0\n",
       "migration_sunbelt                   16724\n",
       "num_person_Worked_employer              0\n",
       "family_members_under_18                 0\n",
       "country_father                       1085\n",
       "country_mother                        985\n",
       "country_self                          519\n",
       "citizenship                             0\n",
       "business_or_self_employed               0\n",
       "fill_questionnaire_veteran_admin        0\n",
       "veterans_benefits                       0\n",
       "weeks_worked_in_year                    0\n",
       "year                                    0\n",
       "dtype: int64"
      ]
     },
     "execution_count": 10,
     "metadata": {},
     "output_type": "execute_result"
    }
   ],
   "source": [
    "#Check for null\n",
    "test_data.isna().sum()"
   ]
  },
  {
   "cell_type": "code",
   "execution_count": 11,
   "metadata": {},
   "outputs": [
    {
     "name": "stdout",
     "output_type": "stream",
     "text": [
      "['enrolled_in_edu_inst_lastwk', 'country_mother', 'reason_for_unemployment', 'member_of_labor_union', 'migration_within_reg', 'marital_status', 'sex', 'hispanic_origin', 'migration_msa', 'family_members_under_18', 'race', 'state_of_previous_residence', 'country_self', 'class_of_worker', 'fill_questionnaire_veteran_admin', 'region_of_previous_residence', 'd_household_summary', 'full_parttime_employment_stat', 'migration_reg', 'citizenship', 'country_father', 'major_industry_code', 'education', 'live_1_year_ago', 'tax_filer_status', 'd_household_family_stat', 'migration_sunbelt', 'major_occupation_code']\n"
     ]
    }
   ],
   "source": [
    "#Get the numeric and categorical columns\n",
    "num_cols_test = test_data.select_dtypes(include=np.number).columns.tolist()\n",
    "cat_cols_test = list(set(test_data.columns) - set(num_cols_test))\n",
    "print(cat_cols_test)"
   ]
  },
  {
   "cell_type": "code",
   "execution_count": 12,
   "metadata": {},
   "outputs": [
    {
     "data": {
      "text/plain": [
       "age                                 0\n",
       "class_of_worker                     0\n",
       "industry_code                       0\n",
       "occupation_code                     0\n",
       "education                           0\n",
       "wage_per_hour                       0\n",
       "enrolled_in_edu_inst_lastwk         0\n",
       "marital_status                      0\n",
       "major_industry_code                 0\n",
       "major_occupation_code               0\n",
       "race                                0\n",
       "hispanic_origin                     0\n",
       "sex                                 0\n",
       "member_of_labor_union               0\n",
       "reason_for_unemployment             0\n",
       "full_parttime_employment_stat       0\n",
       "capital_gains                       0\n",
       "capital_losses                      0\n",
       "dividend_from_Stocks                0\n",
       "tax_filer_status                    0\n",
       "region_of_previous_residence        0\n",
       "state_of_previous_residence         0\n",
       "d_household_family_stat             0\n",
       "d_household_summary                 0\n",
       "migration_msa                       0\n",
       "migration_reg                       0\n",
       "migration_within_reg                0\n",
       "live_1_year_ago                     0\n",
       "migration_sunbelt                   0\n",
       "num_person_Worked_employer          0\n",
       "family_members_under_18             0\n",
       "country_father                      0\n",
       "country_mother                      0\n",
       "country_self                        0\n",
       "citizenship                         0\n",
       "business_or_self_employed           0\n",
       "fill_questionnaire_veteran_admin    0\n",
       "veterans_benefits                   0\n",
       "weeks_worked_in_year                0\n",
       "year                                0\n",
       "dtype: int64"
      ]
     },
     "execution_count": 12,
     "metadata": {},
     "output_type": "execute_result"
    }
   ],
   "source": [
    "#Remove the null values test data \n",
    "for col in cat_cols_test:\n",
    "    test_data[col] = test_data[col].fillna(test_data[col].value_counts()[1])\n",
    "test_data.isna().sum()"
   ]
  },
  {
   "cell_type": "code",
   "execution_count": 13,
   "metadata": {},
   "outputs": [
    {
     "data": {
      "text/plain": [
       "All other                    43097\n",
       "Mexican-American              2005\n",
       "Mexican (Mexicano)            1810\n",
       "Central or South American      930\n",
       "Puerto Rican                   830\n",
       "Other Spanish                  630\n",
       "Cuban                          315\n",
       "2005                           226\n",
       "Do not know                     79\n",
       "Chicano                         78\n",
       "Name: hispanic_origin, dtype: int64"
      ]
     },
     "execution_count": 13,
     "metadata": {},
     "output_type": "execute_result"
    }
   ],
   "source": [
    "test_data['hispanic_origin'].value_counts()"
   ]
  },
  {
   "cell_type": "code",
   "execution_count": 14,
   "metadata": {},
   "outputs": [
    {
     "data": {
      "text/plain": [
       "All other                    43097\n",
       "Mexican-American              2005\n",
       "Mexican (Mexicano)            1810\n",
       "Central or South American      930\n",
       "Puerto Rican                   830\n",
       "Other Spanish                  630\n",
       "Cuban                          315\n",
       "2005                           226\n",
       "Do not know                     79\n",
       "Chicano                         78\n",
       "Name: hispanic_origin, dtype: int64"
      ]
     },
     "execution_count": 14,
     "metadata": {},
     "output_type": "execute_result"
    }
   ],
   "source": [
    "#Trim the spaces in test_data\n",
    "for col in cat_cols_test:\n",
    "    test_data[col] = test_data[col].apply(lambda x: x.strip() if type(x) == 'str' else x)\n",
    "test_data['hispanic_origin'].value_counts()"
   ]
  },
  {
   "cell_type": "code",
   "execution_count": 15,
   "metadata": {},
   "outputs": [
    {
     "name": "stdout",
     "output_type": "stream",
     "text": [
      "United-States                   44389\n",
      "Mexico                           1457\n",
      "1457                              519\n",
      "Puerto-Rico                       340\n",
      "qm                                299\n",
      "Cuba                              223\n",
      "Philippines                       216\n",
      "Germany                           216\n",
      "Dominican-Republic                183\n",
      "El-Salvador                       178\n",
      "Canada                            170\n",
      "China                             130\n",
      "England                           117\n",
      "South Korea                       116\n",
      "India                             107\n",
      "Italy                             101\n",
      "Columbia                           97\n",
      "Poland                             96\n",
      "Vietnam                            89\n",
      "Japan                              84\n",
      "Guatemala                          80\n",
      "Jamaica                            69\n",
      "Nicaragua                          65\n",
      "Peru                               64\n",
      "Ecuador                            62\n",
      "Haiti                              47\n",
      "Taiwan                             42\n",
      "Portugal                           42\n",
      "Iran                               41\n",
      "Ireland                            37\n",
      "Greece                             36\n",
      "Honduras                           35\n",
      "Thailand                           33\n",
      "Cambodia                           30\n",
      "Laos                               30\n",
      "France                             30\n",
      "Outlying-U S (Guam USVI etc)       28\n",
      "Scotland                           20\n",
      "Hungary                            19\n",
      "Hong Kong                          18\n",
      "Yugoslavia                         17\n",
      "Trinadad&Tobago                    17\n",
      "Panama                              6\n",
      "Holand-Netherlands                  5\n",
      "Name: country_self, dtype: int64\n"
     ]
    }
   ],
   "source": [
    "print(test_data['country_self'].value_counts())"
   ]
  },
  {
   "cell_type": "markdown",
   "metadata": {},
   "source": [
    "### Data Preprocessing"
   ]
  },
  {
   "cell_type": "code",
   "execution_count": 16,
   "metadata": {},
   "outputs": [
    {
     "name": "stdout",
     "output_type": "stream",
     "text": [
      "(200000, 40)\n",
      "(200000,)\n"
     ]
    }
   ],
   "source": [
    "#Divide the data into features and label\n",
    "features = data.drop('income_level', axis=1)\n",
    "label = data['income_level']\n",
    "print(features.shape)\n",
    "print(label.shape)"
   ]
  },
  {
   "cell_type": "code",
   "execution_count": 17,
   "metadata": {},
   "outputs": [
    {
     "data": {
      "text/html": [
       "<div>\n",
       "<style scoped>\n",
       "    .dataframe tbody tr th:only-of-type {\n",
       "        vertical-align: middle;\n",
       "    }\n",
       "\n",
       "    .dataframe tbody tr th {\n",
       "        vertical-align: top;\n",
       "    }\n",
       "\n",
       "    .dataframe thead th {\n",
       "        text-align: right;\n",
       "    }\n",
       "</style>\n",
       "<table border=\"1\" class=\"dataframe\">\n",
       "  <thead>\n",
       "    <tr style=\"text-align: right;\">\n",
       "      <th></th>\n",
       "      <th>age</th>\n",
       "      <th>class_of_worker</th>\n",
       "      <th>industry_code</th>\n",
       "      <th>occupation_code</th>\n",
       "      <th>education</th>\n",
       "      <th>wage_per_hour</th>\n",
       "      <th>enrolled_in_edu_inst_lastwk</th>\n",
       "      <th>marital_status</th>\n",
       "      <th>major_industry_code</th>\n",
       "      <th>major_occupation_code</th>\n",
       "      <th>...</th>\n",
       "      <th>family_members_under_18</th>\n",
       "      <th>country_father</th>\n",
       "      <th>country_mother</th>\n",
       "      <th>country_self</th>\n",
       "      <th>citizenship</th>\n",
       "      <th>business_or_self_employed</th>\n",
       "      <th>fill_questionnaire_veteran_admin</th>\n",
       "      <th>veterans_benefits</th>\n",
       "      <th>weeks_worked_in_year</th>\n",
       "      <th>year</th>\n",
       "    </tr>\n",
       "  </thead>\n",
       "  <tbody>\n",
       "    <tr>\n",
       "      <th>0</th>\n",
       "      <td>23</td>\n",
       "      <td>Private</td>\n",
       "      <td>43</td>\n",
       "      <td>22</td>\n",
       "      <td>Some college but no degree</td>\n",
       "      <td>0</td>\n",
       "      <td>College or university</td>\n",
       "      <td>Never married</td>\n",
       "      <td>Education</td>\n",
       "      <td>Adm support including clerical</td>\n",
       "      <td>...</td>\n",
       "      <td>Not in universe</td>\n",
       "      <td>Peru</td>\n",
       "      <td>Peru</td>\n",
       "      <td>United-States</td>\n",
       "      <td>Native- Born in the United States</td>\n",
       "      <td>0</td>\n",
       "      <td>Not in universe</td>\n",
       "      <td>2</td>\n",
       "      <td>30</td>\n",
       "      <td>95</td>\n",
       "    </tr>\n",
       "    <tr>\n",
       "      <th>1</th>\n",
       "      <td>24</td>\n",
       "      <td>Private</td>\n",
       "      <td>34</td>\n",
       "      <td>2</td>\n",
       "      <td>Bachelors degree(BA AB BS)</td>\n",
       "      <td>0</td>\n",
       "      <td>Not in universe</td>\n",
       "      <td>Never married</td>\n",
       "      <td>Finance insurance and real estate</td>\n",
       "      <td>Executive admin and managerial</td>\n",
       "      <td>...</td>\n",
       "      <td>Not in universe</td>\n",
       "      <td>United-States</td>\n",
       "      <td>United-States</td>\n",
       "      <td>United-States</td>\n",
       "      <td>Native- Born in the United States</td>\n",
       "      <td>0</td>\n",
       "      <td>Not in universe</td>\n",
       "      <td>2</td>\n",
       "      <td>26</td>\n",
       "      <td>94</td>\n",
       "    </tr>\n",
       "    <tr>\n",
       "      <th>2</th>\n",
       "      <td>38</td>\n",
       "      <td>Private</td>\n",
       "      <td>34</td>\n",
       "      <td>2</td>\n",
       "      <td>Masters degree(MA MS MEng MEd MSW MBA)</td>\n",
       "      <td>0</td>\n",
       "      <td>Not in universe</td>\n",
       "      <td>Married-civilian spouse present</td>\n",
       "      <td>Finance insurance and real estate</td>\n",
       "      <td>Executive admin and managerial</td>\n",
       "      <td>...</td>\n",
       "      <td>Not in universe</td>\n",
       "      <td>United-States</td>\n",
       "      <td>United-States</td>\n",
       "      <td>United-States</td>\n",
       "      <td>Native- Born in the United States</td>\n",
       "      <td>0</td>\n",
       "      <td>Not in universe</td>\n",
       "      <td>2</td>\n",
       "      <td>52</td>\n",
       "      <td>94</td>\n",
       "    </tr>\n",
       "    <tr>\n",
       "      <th>3</th>\n",
       "      <td>33</td>\n",
       "      <td>Not in universe</td>\n",
       "      <td>0</td>\n",
       "      <td>0</td>\n",
       "      <td>High school graduate</td>\n",
       "      <td>0</td>\n",
       "      <td>Not in universe</td>\n",
       "      <td>Married-civilian spouse present</td>\n",
       "      <td>Not in universe or children</td>\n",
       "      <td>Not in universe</td>\n",
       "      <td>...</td>\n",
       "      <td>Not in universe</td>\n",
       "      <td>United-States</td>\n",
       "      <td>United-States</td>\n",
       "      <td>United-States</td>\n",
       "      <td>Native- Born in the United States</td>\n",
       "      <td>0</td>\n",
       "      <td>Not in universe</td>\n",
       "      <td>2</td>\n",
       "      <td>0</td>\n",
       "      <td>95</td>\n",
       "    </tr>\n",
       "    <tr>\n",
       "      <th>4</th>\n",
       "      <td>13</td>\n",
       "      <td>Not in universe</td>\n",
       "      <td>0</td>\n",
       "      <td>0</td>\n",
       "      <td>Children</td>\n",
       "      <td>0</td>\n",
       "      <td>Not in universe</td>\n",
       "      <td>Never married</td>\n",
       "      <td>Not in universe or children</td>\n",
       "      <td>Not in universe</td>\n",
       "      <td>...</td>\n",
       "      <td>Both parents present</td>\n",
       "      <td>United-States</td>\n",
       "      <td>United-States</td>\n",
       "      <td>United-States</td>\n",
       "      <td>Native- Born in the United States</td>\n",
       "      <td>0</td>\n",
       "      <td>Not in universe</td>\n",
       "      <td>0</td>\n",
       "      <td>0</td>\n",
       "      <td>95</td>\n",
       "    </tr>\n",
       "  </tbody>\n",
       "</table>\n",
       "<p>5 rows × 40 columns</p>\n",
       "</div>"
      ],
      "text/plain": [
       "   age  class_of_worker  industry_code  occupation_code  \\\n",
       "0   23          Private             43               22   \n",
       "1   24          Private             34                2   \n",
       "2   38          Private             34                2   \n",
       "3   33  Not in universe              0                0   \n",
       "4   13  Not in universe              0                0   \n",
       "\n",
       "                                education  wage_per_hour  \\\n",
       "0              Some college but no degree              0   \n",
       "1              Bachelors degree(BA AB BS)              0   \n",
       "2  Masters degree(MA MS MEng MEd MSW MBA)              0   \n",
       "3                    High school graduate              0   \n",
       "4                                Children              0   \n",
       "\n",
       "  enrolled_in_edu_inst_lastwk                   marital_status  \\\n",
       "0       College or university                    Never married   \n",
       "1             Not in universe                    Never married   \n",
       "2             Not in universe  Married-civilian spouse present   \n",
       "3             Not in universe  Married-civilian spouse present   \n",
       "4             Not in universe                    Never married   \n",
       "\n",
       "                 major_industry_code           major_occupation_code  ...  \\\n",
       "0                          Education  Adm support including clerical  ...   \n",
       "1  Finance insurance and real estate  Executive admin and managerial  ...   \n",
       "2  Finance insurance and real estate  Executive admin and managerial  ...   \n",
       "3        Not in universe or children                 Not in universe  ...   \n",
       "4        Not in universe or children                 Not in universe  ...   \n",
       "\n",
       "  family_members_under_18 country_father country_mother   country_self  \\\n",
       "0         Not in universe           Peru           Peru  United-States   \n",
       "1         Not in universe  United-States  United-States  United-States   \n",
       "2         Not in universe  United-States  United-States  United-States   \n",
       "3         Not in universe  United-States  United-States  United-States   \n",
       "4    Both parents present  United-States  United-States  United-States   \n",
       "\n",
       "                         citizenship business_or_self_employed  \\\n",
       "0  Native- Born in the United States                         0   \n",
       "1  Native- Born in the United States                         0   \n",
       "2  Native- Born in the United States                         0   \n",
       "3  Native- Born in the United States                         0   \n",
       "4  Native- Born in the United States                         0   \n",
       "\n",
       "   fill_questionnaire_veteran_admin  veterans_benefits  weeks_worked_in_year  \\\n",
       "0                   Not in universe                  2                    30   \n",
       "1                   Not in universe                  2                    26   \n",
       "2                   Not in universe                  2                    52   \n",
       "3                   Not in universe                  2                     0   \n",
       "4                   Not in universe                  0                     0   \n",
       "\n",
       "  year  \n",
       "0   95  \n",
       "1   94  \n",
       "2   94  \n",
       "3   95  \n",
       "4   95  \n",
       "\n",
       "[5 rows x 40 columns]"
      ]
     },
     "execution_count": 17,
     "metadata": {},
     "output_type": "execute_result"
    }
   ],
   "source": [
    "features.head()"
   ]
  },
  {
   "cell_type": "code",
   "execution_count": 18,
   "metadata": {},
   "outputs": [
    {
     "name": "stdout",
     "output_type": "stream",
     "text": [
      "(160000, 40)\n",
      "(40000, 40)\n"
     ]
    }
   ],
   "source": [
    "#Divide the data into training and testing\n",
    "from sklearn.model_selection import train_test_split\n",
    "X_train, X_test, y_train, y_test = train_test_split(features, label, train_size=0.8, random_state=0)\n",
    "print(X_train.shape)\n",
    "print(X_test.shape)"
   ]
  },
  {
   "cell_type": "code",
   "execution_count": 19,
   "metadata": {},
   "outputs": [],
   "source": [
    "#Get the numeric and categorical values\n",
    "num_cols = X_train.select_dtypes(include=np.number).columns.tolist()\n",
    "cat_cols = list(set(X_train.columns) - set(num_cols))"
   ]
  },
  {
   "cell_type": "code",
   "execution_count": 20,
   "metadata": {},
   "outputs": [],
   "source": [
    "#Divide the data into numeric and categorical\n",
    "numeric_data = X_train[num_cols]\n",
    "categorical_data = X_train[cat_cols]"
   ]
  },
  {
   "cell_type": "markdown",
   "metadata": {},
   "source": [
    "#### Analysis of numerical data"
   ]
  },
  {
   "cell_type": "code",
   "execution_count": 21,
   "metadata": {},
   "outputs": [
    {
     "data": {
      "text/plain": [
       "age                           0\n",
       "industry_code                 0\n",
       "occupation_code               0\n",
       "wage_per_hour                 0\n",
       "capital_gains                 0\n",
       "capital_losses                0\n",
       "dividend_from_Stocks          0\n",
       "num_person_Worked_employer    0\n",
       "business_or_self_employed     0\n",
       "veterans_benefits             0\n",
       "weeks_worked_in_year          0\n",
       "year                          0\n",
       "dtype: int64"
      ]
     },
     "execution_count": 21,
     "metadata": {},
     "output_type": "execute_result"
    }
   ],
   "source": [
    "#Check for any null values\n",
    "numeric_data.isna().sum()"
   ]
  },
  {
   "cell_type": "code",
   "execution_count": 22,
   "metadata": {},
   "outputs": [
    {
     "data": {
      "text/plain": [
       "age                             91\n",
       "industry_code                   52\n",
       "occupation_code                 47\n",
       "wage_per_hour                 1105\n",
       "capital_gains                  129\n",
       "capital_losses                 111\n",
       "dividend_from_Stocks          1392\n",
       "num_person_Worked_employer       7\n",
       "business_or_self_employed        3\n",
       "veterans_benefits                3\n",
       "weeks_worked_in_year            53\n",
       "year                             2\n",
       "dtype: int64"
      ]
     },
     "execution_count": 22,
     "metadata": {},
     "output_type": "execute_result"
    }
   ],
   "source": [
    "#Check for number of unique values in column\n",
    "numeric_data.nunique(axis = 0)"
   ]
  },
  {
   "cell_type": "markdown",
   "metadata": {},
   "source": [
    "Check the columns with less unique values\n"
   ]
  },
  {
   "cell_type": "code",
   "execution_count": 23,
   "metadata": {},
   "outputs": [
    {
     "data": {
      "image/png": "[encoded data removed]",
      "text/plain": [
       "<Figure size 720x720 with 2 Axes>"
      ]
     },
     "metadata": {
      "needs_background": "light"
     },
     "output_type": "display_data"
    }
   ],
   "source": [
    "#Get the visualization of correlation matrix\n",
    "plt.rcParams['figure.figsize'] = 10,10\n",
    "ax = sns.heatmap(numeric_data.corr(), annot=True)\n",
    "plt.show()"
   ]
  },
  {
   "cell_type": "code",
   "execution_count": 24,
   "metadata": {},
   "outputs": [
    {
     "name": "stderr",
     "output_type": "stream",
     "text": [
      "C:\\Users\\thakk\\anaconda3\\lib\\site-packages\\pandas\\core\\frame.py:3997: SettingWithCopyWarning: \n",
      "A value is trying to be set on a copy of a slice from a DataFrame\n",
      "\n",
      "See the caveats in the documentation: https://pandas.pydata.org/pandas-docs/stable/user_guide/indexing.html#returning-a-view-versus-a-copy\n",
      "  errors=errors,\n"
     ]
    },
    {
     "data": {
      "text/plain": [
       "<matplotlib.axes._subplots.AxesSubplot at 0x23eedc79a88>"
      ]
     },
     "execution_count": 24,
     "metadata": {},
     "output_type": "execute_result"
    },
    {
     "data": {
      "image/png": "[encoded data removed]",
      "text/plain": [
       "<Figure size 720x720 with 2 Axes>"
      ]
     },
     "metadata": {
      "needs_background": "light"
     },
     "output_type": "display_data"
    }
   ],
   "source": [
    "#Remove one of more correlated columns\n",
    "X_train.drop(['veterans_benefits', 'weeks_worked_in_year', 'industry_code', 'occupation_code'], axis = 1, inplace = True)\n",
    "X_test.drop(['veterans_benefits', 'weeks_worked_in_year', 'industry_code', 'occupation_code'], axis = 1, inplace = True)\n",
    "test_data.drop(['veterans_benefits', 'weeks_worked_in_year', 'industry_code', 'occupation_code'], axis = 1, inplace = True)\n",
    "sns.heatmap(numeric_data.corr(), annot=True)"
   ]
  },
  {
   "cell_type": "markdown",
   "metadata": {},
   "source": [
    "#### Analysis of categorical columns"
   ]
  },
  {
   "cell_type": "code",
   "execution_count": 25,
   "metadata": {},
   "outputs": [
    {
     "data": {
      "text/plain": [
       "enrolled_in_edu_inst_lastwk         0\n",
       "country_mother                      0\n",
       "reason_for_unemployment             0\n",
       "member_of_labor_union               0\n",
       "migration_within_reg                0\n",
       "marital_status                      0\n",
       "sex                                 0\n",
       "hispanic_origin                     0\n",
       "migration_msa                       0\n",
       "family_members_under_18             0\n",
       "race                                0\n",
       "state_of_previous_residence         0\n",
       "country_self                        0\n",
       "class_of_worker                     0\n",
       "fill_questionnaire_veteran_admin    0\n",
       "region_of_previous_residence        0\n",
       "d_household_summary                 0\n",
       "full_parttime_employment_stat       0\n",
       "migration_reg                       0\n",
       "citizenship                         0\n",
       "country_father                      0\n",
       "major_industry_code                 0\n",
       "education                           0\n",
       "live_1_year_ago                     0\n",
       "tax_filer_status                    0\n",
       "d_household_family_stat             0\n",
       "migration_sunbelt                   0\n",
       "major_occupation_code               0\n",
       "dtype: int64"
      ]
     },
     "execution_count": 25,
     "metadata": {},
     "output_type": "execute_result"
    }
   ],
   "source": [
    "#Check for null values\n",
    "categorical_data.isna().sum()"
   ]
  },
  {
   "cell_type": "code",
   "execution_count": 26,
   "metadata": {},
   "outputs": [
    {
     "data": {
      "text/html": [
       "<div>\n",
       "<style scoped>\n",
       "    .dataframe tbody tr th:only-of-type {\n",
       "        vertical-align: middle;\n",
       "    }\n",
       "\n",
       "    .dataframe tbody tr th {\n",
       "        vertical-align: top;\n",
       "    }\n",
       "\n",
       "    .dataframe thead th {\n",
       "        text-align: right;\n",
       "    }\n",
       "</style>\n",
       "<table border=\"1\" class=\"dataframe\">\n",
       "  <thead>\n",
       "    <tr style=\"text-align: right;\">\n",
       "      <th></th>\n",
       "      <th>enrolled_in_edu_inst_lastwk</th>\n",
       "      <th>country_mother</th>\n",
       "      <th>reason_for_unemployment</th>\n",
       "      <th>member_of_labor_union</th>\n",
       "      <th>migration_within_reg</th>\n",
       "      <th>marital_status</th>\n",
       "      <th>sex</th>\n",
       "      <th>hispanic_origin</th>\n",
       "      <th>migration_msa</th>\n",
       "      <th>family_members_under_18</th>\n",
       "      <th>...</th>\n",
       "      <th>migration_reg</th>\n",
       "      <th>citizenship</th>\n",
       "      <th>country_father</th>\n",
       "      <th>major_industry_code</th>\n",
       "      <th>education</th>\n",
       "      <th>live_1_year_ago</th>\n",
       "      <th>tax_filer_status</th>\n",
       "      <th>d_household_family_stat</th>\n",
       "      <th>migration_sunbelt</th>\n",
       "      <th>major_occupation_code</th>\n",
       "    </tr>\n",
       "  </thead>\n",
       "  <tbody>\n",
       "    <tr>\n",
       "      <th>127478</th>\n",
       "      <td>Not in universe</td>\n",
       "      <td>Poland</td>\n",
       "      <td>Not in universe</td>\n",
       "      <td>Not in universe</td>\n",
       "      <td>Nonmover</td>\n",
       "      <td>Married-civilian spouse present</td>\n",
       "      <td>Female</td>\n",
       "      <td>All other</td>\n",
       "      <td>Nonmover</td>\n",
       "      <td>Not in universe</td>\n",
       "      <td>...</td>\n",
       "      <td>Nonmover</td>\n",
       "      <td>Native- Born in the United States</td>\n",
       "      <td>Poland</td>\n",
       "      <td>Manufacturing-nondurable goods</td>\n",
       "      <td>Bachelors degree(BA AB BS)</td>\n",
       "      <td>Yes</td>\n",
       "      <td>Joint one under 65 &amp; one 65+</td>\n",
       "      <td>Spouse of householder</td>\n",
       "      <td>Not in universe</td>\n",
       "      <td>Executive admin and managerial</td>\n",
       "    </tr>\n",
       "    <tr>\n",
       "      <th>155552</th>\n",
       "      <td>Not in universe</td>\n",
       "      <td>United-States</td>\n",
       "      <td>Not in universe</td>\n",
       "      <td>No</td>\n",
       "      <td>82834</td>\n",
       "      <td>Never married</td>\n",
       "      <td>Female</td>\n",
       "      <td>All other</td>\n",
       "      <td>82834</td>\n",
       "      <td>Not in universe</td>\n",
       "      <td>...</td>\n",
       "      <td>82834</td>\n",
       "      <td>Native- Born in the United States</td>\n",
       "      <td>United-States</td>\n",
       "      <td>Personal services except private HH</td>\n",
       "      <td>High school graduate</td>\n",
       "      <td>Not in universe under 1 year old</td>\n",
       "      <td>Single</td>\n",
       "      <td>Nonfamily householder</td>\n",
       "      <td>84339</td>\n",
       "      <td>Sales</td>\n",
       "    </tr>\n",
       "    <tr>\n",
       "      <th>75475</th>\n",
       "      <td>High school</td>\n",
       "      <td>United-States</td>\n",
       "      <td>Not in universe</td>\n",
       "      <td>Not in universe</td>\n",
       "      <td>Same county</td>\n",
       "      <td>Never married</td>\n",
       "      <td>Male</td>\n",
       "      <td>All other</td>\n",
       "      <td>MSA to MSA</td>\n",
       "      <td>Mother only present</td>\n",
       "      <td>...</td>\n",
       "      <td>Same county</td>\n",
       "      <td>Native- Born in the United States</td>\n",
       "      <td>United-States</td>\n",
       "      <td>Not in universe or children</td>\n",
       "      <td>7th and 8th grade</td>\n",
       "      <td>No</td>\n",
       "      <td>Nonfiler</td>\n",
       "      <td>Child &lt;18 never marr not in subfamily</td>\n",
       "      <td>Yes</td>\n",
       "      <td>Not in universe</td>\n",
       "    </tr>\n",
       "    <tr>\n",
       "      <th>186114</th>\n",
       "      <td>Not in universe</td>\n",
       "      <td>United-States</td>\n",
       "      <td>Not in universe</td>\n",
       "      <td>Not in universe</td>\n",
       "      <td>82834</td>\n",
       "      <td>Married-civilian spouse present</td>\n",
       "      <td>Female</td>\n",
       "      <td>All other</td>\n",
       "      <td>82834</td>\n",
       "      <td>Not in universe</td>\n",
       "      <td>...</td>\n",
       "      <td>82834</td>\n",
       "      <td>Native- Born in the United States</td>\n",
       "      <td>United-States</td>\n",
       "      <td>Not in universe or children</td>\n",
       "      <td>Some college but no degree</td>\n",
       "      <td>Not in universe under 1 year old</td>\n",
       "      <td>Joint both under 65</td>\n",
       "      <td>Householder</td>\n",
       "      <td>84339</td>\n",
       "      <td>Not in universe</td>\n",
       "    </tr>\n",
       "    <tr>\n",
       "      <th>93717</th>\n",
       "      <td>Not in universe</td>\n",
       "      <td>United-States</td>\n",
       "      <td>Not in universe</td>\n",
       "      <td>Not in universe</td>\n",
       "      <td>Nonmover</td>\n",
       "      <td>Never married</td>\n",
       "      <td>Male</td>\n",
       "      <td>Other Spanish</td>\n",
       "      <td>Nonmover</td>\n",
       "      <td>Not in universe</td>\n",
       "      <td>...</td>\n",
       "      <td>Nonmover</td>\n",
       "      <td>Native- Born in the United States</td>\n",
       "      <td>United-States</td>\n",
       "      <td>Retail trade</td>\n",
       "      <td>Some college but no degree</td>\n",
       "      <td>Yes</td>\n",
       "      <td>Single</td>\n",
       "      <td>Child 18+ never marr Not in a subfamily</td>\n",
       "      <td>Not in universe</td>\n",
       "      <td>Other service</td>\n",
       "    </tr>\n",
       "  </tbody>\n",
       "</table>\n",
       "<p>5 rows × 28 columns</p>\n",
       "</div>"
      ],
      "text/plain": [
       "       enrolled_in_edu_inst_lastwk country_mother reason_for_unemployment  \\\n",
       "127478             Not in universe         Poland         Not in universe   \n",
       "155552             Not in universe  United-States         Not in universe   \n",
       "75475                  High school  United-States         Not in universe   \n",
       "186114             Not in universe  United-States         Not in universe   \n",
       "93717              Not in universe  United-States         Not in universe   \n",
       "\n",
       "       member_of_labor_union migration_within_reg  \\\n",
       "127478       Not in universe             Nonmover   \n",
       "155552                    No                82834   \n",
       "75475        Not in universe          Same county   \n",
       "186114       Not in universe                82834   \n",
       "93717        Not in universe             Nonmover   \n",
       "\n",
       "                         marital_status     sex hispanic_origin migration_msa  \\\n",
       "127478  Married-civilian spouse present  Female       All other      Nonmover   \n",
       "155552                    Never married  Female       All other         82834   \n",
       "75475                     Never married    Male       All other    MSA to MSA   \n",
       "186114  Married-civilian spouse present  Female       All other         82834   \n",
       "93717                     Never married    Male   Other Spanish      Nonmover   \n",
       "\n",
       "       family_members_under_18  ... migration_reg  \\\n",
       "127478         Not in universe  ...      Nonmover   \n",
       "155552         Not in universe  ...         82834   \n",
       "75475      Mother only present  ...   Same county   \n",
       "186114         Not in universe  ...         82834   \n",
       "93717          Not in universe  ...      Nonmover   \n",
       "\n",
       "                              citizenship country_father  \\\n",
       "127478  Native- Born in the United States         Poland   \n",
       "155552  Native- Born in the United States  United-States   \n",
       "75475   Native- Born in the United States  United-States   \n",
       "186114  Native- Born in the United States  United-States   \n",
       "93717   Native- Born in the United States  United-States   \n",
       "\n",
       "                        major_industry_code                   education  \\\n",
       "127478       Manufacturing-nondurable goods  Bachelors degree(BA AB BS)   \n",
       "155552  Personal services except private HH        High school graduate   \n",
       "75475           Not in universe or children           7th and 8th grade   \n",
       "186114          Not in universe or children  Some college but no degree   \n",
       "93717                          Retail trade  Some college but no degree   \n",
       "\n",
       "                         live_1_year_ago              tax_filer_status  \\\n",
       "127478                               Yes  Joint one under 65 & one 65+   \n",
       "155552  Not in universe under 1 year old                        Single   \n",
       "75475                                 No                      Nonfiler   \n",
       "186114  Not in universe under 1 year old           Joint both under 65   \n",
       "93717                                Yes                        Single   \n",
       "\n",
       "                        d_household_family_stat migration_sunbelt  \\\n",
       "127478                    Spouse of householder   Not in universe   \n",
       "155552                    Nonfamily householder             84339   \n",
       "75475     Child <18 never marr not in subfamily               Yes   \n",
       "186114                              Householder             84339   \n",
       "93717   Child 18+ never marr Not in a subfamily   Not in universe   \n",
       "\n",
       "                 major_occupation_code  \n",
       "127478  Executive admin and managerial  \n",
       "155552                           Sales  \n",
       "75475                  Not in universe  \n",
       "186114                 Not in universe  \n",
       "93717                    Other service  \n",
       "\n",
       "[5 rows x 28 columns]"
      ]
     },
     "execution_count": 26,
     "metadata": {},
     "output_type": "execute_result"
    }
   ],
   "source": [
    "categorical_data.head()"
   ]
  },
  {
   "cell_type": "code",
   "execution_count": 27,
   "metadata": {},
   "outputs": [
    {
     "data": {
      "text/plain": [
       "enrolled_in_edu_inst_lastwk         0\n",
       "country_mother                      0\n",
       "reason_for_unemployment             0\n",
       "member_of_labor_union               0\n",
       "migration_within_reg                0\n",
       "marital_status                      0\n",
       "sex                                 0\n",
       "hispanic_origin                     0\n",
       "migration_msa                       0\n",
       "family_members_under_18             0\n",
       "race                                0\n",
       "state_of_previous_residence         0\n",
       "country_self                        0\n",
       "class_of_worker                     0\n",
       "fill_questionnaire_veteran_admin    0\n",
       "region_of_previous_residence        0\n",
       "d_household_summary                 0\n",
       "full_parttime_employment_stat       0\n",
       "migration_reg                       0\n",
       "citizenship                         0\n",
       "country_father                      0\n",
       "major_industry_code                 0\n",
       "education                           0\n",
       "live_1_year_ago                     0\n",
       "tax_filer_status                    0\n",
       "d_household_family_stat             0\n",
       "migration_sunbelt                   0\n",
       "major_occupation_code               0\n",
       "dtype: int64"
      ]
     },
     "execution_count": 27,
     "metadata": {},
     "output_type": "execute_result"
    }
   ],
   "source": [
    "categorical_data.isna().sum()"
   ]
  },
  {
   "cell_type": "code",
   "execution_count": 28,
   "metadata": {},
   "outputs": [],
   "source": [
    "#Fill na\n",
    "#for col in categorical_data:\n",
    "#   categorical_data = categorical_data.fillna(categorical_data[col].value_counts().index[0])"
   ]
  },
  {
   "cell_type": "code",
   "execution_count": 29,
   "metadata": {},
   "outputs": [
    {
     "data": {
      "text/plain": [
       "enrolled_in_edu_inst_lastwk         0\n",
       "country_mother                      0\n",
       "reason_for_unemployment             0\n",
       "member_of_labor_union               0\n",
       "migration_within_reg                0\n",
       "marital_status                      0\n",
       "sex                                 0\n",
       "hispanic_origin                     0\n",
       "migration_msa                       0\n",
       "family_members_under_18             0\n",
       "race                                0\n",
       "state_of_previous_residence         0\n",
       "country_self                        0\n",
       "class_of_worker                     0\n",
       "fill_questionnaire_veteran_admin    0\n",
       "region_of_previous_residence        0\n",
       "d_household_summary                 0\n",
       "full_parttime_employment_stat       0\n",
       "migration_reg                       0\n",
       "citizenship                         0\n",
       "country_father                      0\n",
       "major_industry_code                 0\n",
       "education                           0\n",
       "live_1_year_ago                     0\n",
       "tax_filer_status                    0\n",
       "d_household_family_stat             0\n",
       "migration_sunbelt                   0\n",
       "major_occupation_code               0\n",
       "dtype: int64"
      ]
     },
     "execution_count": 29,
     "metadata": {},
     "output_type": "execute_result"
    }
   ],
   "source": [
    "#Replace with mode for categorical\n",
    "categorical_data.isna().sum()"
   ]
  },
  {
   "cell_type": "code",
   "execution_count": 30,
   "metadata": {},
   "outputs": [
    {
     "data": {
      "text/plain": [
       "enrolled_in_edu_inst_lastwk          3\n",
       "country_mother                      44\n",
       "reason_for_unemployment              6\n",
       "member_of_labor_union                3\n",
       "migration_within_reg                11\n",
       "marital_status                       7\n",
       "sex                                  2\n",
       "hispanic_origin                     10\n",
       "migration_msa                       11\n",
       "family_members_under_18              5\n",
       "race                                 5\n",
       "state_of_previous_residence         52\n",
       "country_self                        44\n",
       "class_of_worker                      9\n",
       "fill_questionnaire_veteran_admin     3\n",
       "region_of_previous_residence         6\n",
       "d_household_summary                  8\n",
       "full_parttime_employment_stat        8\n",
       "migration_reg                       10\n",
       "citizenship                          5\n",
       "country_father                      44\n",
       "major_industry_code                 24\n",
       "education                           17\n",
       "live_1_year_ago                      3\n",
       "tax_filer_status                     6\n",
       "d_household_family_stat             37\n",
       "migration_sunbelt                    5\n",
       "major_occupation_code               15\n",
       "dtype: int64"
      ]
     },
     "execution_count": 30,
     "metadata": {},
     "output_type": "execute_result"
    }
   ],
   "source": [
    "#Get the unique values count\n",
    "categorical_data.nunique(axis = 0)"
   ]
  },
  {
   "cell_type": "markdown",
   "metadata": {},
   "source": [
    "### Feature Engineering"
   ]
  },
  {
   "cell_type": "code",
   "execution_count": 31,
   "metadata": {},
   "outputs": [
    {
     "name": "stdout",
     "output_type": "stream",
     "text": [
      "enrolled_in_edu_inst_lastwk\n",
      "country_mother\n"
     ]
    },
    {
     "name": "stderr",
     "output_type": "stream",
     "text": [
      "C:\\Users\\thakk\\anaconda3\\lib\\site-packages\\ipykernel_launcher.py:7: SettingWithCopyWarning: \n",
      "A value is trying to be set on a copy of a slice from a DataFrame.\n",
      "Try using .loc[row_indexer,col_indexer] = value instead\n",
      "\n",
      "See the caveats in the documentation: https://pandas.pydata.org/pandas-docs/stable/user_guide/indexing.html#returning-a-view-versus-a-copy\n",
      "  import sys\n",
      "C:\\Users\\thakk\\anaconda3\\lib\\site-packages\\ipykernel_launcher.py:8: SettingWithCopyWarning: \n",
      "A value is trying to be set on a copy of a slice from a DataFrame.\n",
      "Try using .loc[row_indexer,col_indexer] = value instead\n",
      "\n",
      "See the caveats in the documentation: https://pandas.pydata.org/pandas-docs/stable/user_guide/indexing.html#returning-a-view-versus-a-copy\n",
      "  \n"
     ]
    },
    {
     "ename": "TypeError",
     "evalue": "argument must be a string or number",
     "output_type": "error",
     "traceback": [
      "\u001b[1;31m---------------------------------------------------------------------------\u001b[0m",
      "\u001b[1;31mTypeError\u001b[0m                                 Traceback (most recent call last)",
      "\u001b[1;32m~\\anaconda3\\lib\\site-packages\\sklearn\\preprocessing\\_label.py\u001b[0m in \u001b[0;36m_encode\u001b[1;34m(values, uniques, encode, check_unknown)\u001b[0m\n\u001b[0;32m    111\u001b[0m         \u001b[1;32mtry\u001b[0m\u001b[1;33m:\u001b[0m\u001b[1;33m\u001b[0m\u001b[1;33m\u001b[0m\u001b[0m\n\u001b[1;32m--> 112\u001b[1;33m             \u001b[0mres\u001b[0m \u001b[1;33m=\u001b[0m \u001b[0m_encode_python\u001b[0m\u001b[1;33m(\u001b[0m\u001b[0mvalues\u001b[0m\u001b[1;33m,\u001b[0m \u001b[0muniques\u001b[0m\u001b[1;33m,\u001b[0m \u001b[0mencode\u001b[0m\u001b[1;33m)\u001b[0m\u001b[1;33m\u001b[0m\u001b[1;33m\u001b[0m\u001b[0m\n\u001b[0m\u001b[0;32m    113\u001b[0m         \u001b[1;32mexcept\u001b[0m \u001b[0mTypeError\u001b[0m\u001b[1;33m:\u001b[0m\u001b[1;33m\u001b[0m\u001b[1;33m\u001b[0m\u001b[0m\n",
      "\u001b[1;32m~\\anaconda3\\lib\\site-packages\\sklearn\\preprocessing\\_label.py\u001b[0m in \u001b[0;36m_encode_python\u001b[1;34m(values, uniques, encode)\u001b[0m\n\u001b[0;32m     59\u001b[0m     \u001b[1;32mif\u001b[0m \u001b[0muniques\u001b[0m \u001b[1;32mis\u001b[0m \u001b[1;32mNone\u001b[0m\u001b[1;33m:\u001b[0m\u001b[1;33m\u001b[0m\u001b[1;33m\u001b[0m\u001b[0m\n\u001b[1;32m---> 60\u001b[1;33m         \u001b[0muniques\u001b[0m \u001b[1;33m=\u001b[0m \u001b[0msorted\u001b[0m\u001b[1;33m(\u001b[0m\u001b[0mset\u001b[0m\u001b[1;33m(\u001b[0m\u001b[0mvalues\u001b[0m\u001b[1;33m)\u001b[0m\u001b[1;33m)\u001b[0m\u001b[1;33m\u001b[0m\u001b[1;33m\u001b[0m\u001b[0m\n\u001b[0m\u001b[0;32m     61\u001b[0m         \u001b[0muniques\u001b[0m \u001b[1;33m=\u001b[0m \u001b[0mnp\u001b[0m\u001b[1;33m.\u001b[0m\u001b[0marray\u001b[0m\u001b[1;33m(\u001b[0m\u001b[0muniques\u001b[0m\u001b[1;33m,\u001b[0m \u001b[0mdtype\u001b[0m\u001b[1;33m=\u001b[0m\u001b[0mvalues\u001b[0m\u001b[1;33m.\u001b[0m\u001b[0mdtype\u001b[0m\u001b[1;33m)\u001b[0m\u001b[1;33m\u001b[0m\u001b[1;33m\u001b[0m\u001b[0m\n",
      "\u001b[1;31mTypeError\u001b[0m: '<' not supported between instances of 'int' and 'str'",
      "\nDuring handling of the above exception, another exception occurred:\n",
      "\u001b[1;31mTypeError\u001b[0m                                 Traceback (most recent call last)",
      "\u001b[1;32m<ipython-input-31-1d7c5739d4e3>\u001b[0m in \u001b[0;36m<module>\u001b[1;34m\u001b[0m\n\u001b[0;32m      4\u001b[0m     \u001b[0mprint\u001b[0m\u001b[1;33m(\u001b[0m\u001b[0mcol\u001b[0m\u001b[1;33m)\u001b[0m\u001b[1;33m\u001b[0m\u001b[1;33m\u001b[0m\u001b[0m\n\u001b[0;32m      5\u001b[0m     \u001b[0mle\u001b[0m \u001b[1;33m=\u001b[0m \u001b[0mLabelEncoder\u001b[0m\u001b[1;33m(\u001b[0m\u001b[1;33m)\u001b[0m\u001b[1;33m\u001b[0m\u001b[1;33m\u001b[0m\u001b[0m\n\u001b[1;32m----> 6\u001b[1;33m     \u001b[0mle\u001b[0m\u001b[1;33m.\u001b[0m\u001b[0mfit\u001b[0m\u001b[1;33m(\u001b[0m\u001b[0mX_train\u001b[0m\u001b[1;33m[\u001b[0m\u001b[0mcol\u001b[0m\u001b[1;33m]\u001b[0m\u001b[1;33m)\u001b[0m\u001b[1;33m\u001b[0m\u001b[1;33m\u001b[0m\u001b[0m\n\u001b[0m\u001b[0;32m      7\u001b[0m     \u001b[0mX_train\u001b[0m\u001b[1;33m[\u001b[0m\u001b[0mcol\u001b[0m\u001b[1;33m]\u001b[0m \u001b[1;33m=\u001b[0m \u001b[0mle\u001b[0m\u001b[1;33m.\u001b[0m\u001b[0mtransform\u001b[0m\u001b[1;33m(\u001b[0m\u001b[0mX_train\u001b[0m\u001b[1;33m[\u001b[0m\u001b[0mcol\u001b[0m\u001b[1;33m]\u001b[0m\u001b[1;33m)\u001b[0m\u001b[1;33m\u001b[0m\u001b[1;33m\u001b[0m\u001b[0m\n\u001b[0;32m      8\u001b[0m     \u001b[0mX_test\u001b[0m\u001b[1;33m[\u001b[0m\u001b[0mcol\u001b[0m\u001b[1;33m]\u001b[0m \u001b[1;33m=\u001b[0m \u001b[0mle\u001b[0m\u001b[1;33m.\u001b[0m\u001b[0mtransform\u001b[0m\u001b[1;33m(\u001b[0m\u001b[0mX_test\u001b[0m\u001b[1;33m[\u001b[0m\u001b[0mcol\u001b[0m\u001b[1;33m]\u001b[0m\u001b[1;33m)\u001b[0m\u001b[1;33m\u001b[0m\u001b[1;33m\u001b[0m\u001b[0m\n",
      "\u001b[1;32m~\\anaconda3\\lib\\site-packages\\sklearn\\preprocessing\\_label.py\u001b[0m in \u001b[0;36mfit\u001b[1;34m(self, y)\u001b[0m\n\u001b[0;32m    234\u001b[0m         \"\"\"\n\u001b[0;32m    235\u001b[0m         \u001b[0my\u001b[0m \u001b[1;33m=\u001b[0m \u001b[0mcolumn_or_1d\u001b[0m\u001b[1;33m(\u001b[0m\u001b[0my\u001b[0m\u001b[1;33m,\u001b[0m \u001b[0mwarn\u001b[0m\u001b[1;33m=\u001b[0m\u001b[1;32mTrue\u001b[0m\u001b[1;33m)\u001b[0m\u001b[1;33m\u001b[0m\u001b[1;33m\u001b[0m\u001b[0m\n\u001b[1;32m--> 236\u001b[1;33m         \u001b[0mself\u001b[0m\u001b[1;33m.\u001b[0m\u001b[0mclasses_\u001b[0m \u001b[1;33m=\u001b[0m \u001b[0m_encode\u001b[0m\u001b[1;33m(\u001b[0m\u001b[0my\u001b[0m\u001b[1;33m)\u001b[0m\u001b[1;33m\u001b[0m\u001b[1;33m\u001b[0m\u001b[0m\n\u001b[0m\u001b[0;32m    237\u001b[0m         \u001b[1;32mreturn\u001b[0m \u001b[0mself\u001b[0m\u001b[1;33m\u001b[0m\u001b[1;33m\u001b[0m\u001b[0m\n\u001b[0;32m    238\u001b[0m \u001b[1;33m\u001b[0m\u001b[0m\n",
      "\u001b[1;32m~\\anaconda3\\lib\\site-packages\\sklearn\\preprocessing\\_label.py\u001b[0m in \u001b[0;36m_encode\u001b[1;34m(values, uniques, encode, check_unknown)\u001b[0m\n\u001b[0;32m    112\u001b[0m             \u001b[0mres\u001b[0m \u001b[1;33m=\u001b[0m \u001b[0m_encode_python\u001b[0m\u001b[1;33m(\u001b[0m\u001b[0mvalues\u001b[0m\u001b[1;33m,\u001b[0m \u001b[0muniques\u001b[0m\u001b[1;33m,\u001b[0m \u001b[0mencode\u001b[0m\u001b[1;33m)\u001b[0m\u001b[1;33m\u001b[0m\u001b[1;33m\u001b[0m\u001b[0m\n\u001b[0;32m    113\u001b[0m         \u001b[1;32mexcept\u001b[0m \u001b[0mTypeError\u001b[0m\u001b[1;33m:\u001b[0m\u001b[1;33m\u001b[0m\u001b[1;33m\u001b[0m\u001b[0m\n\u001b[1;32m--> 114\u001b[1;33m             \u001b[1;32mraise\u001b[0m \u001b[0mTypeError\u001b[0m\u001b[1;33m(\u001b[0m\u001b[1;34m\"argument must be a string or number\"\u001b[0m\u001b[1;33m)\u001b[0m\u001b[1;33m\u001b[0m\u001b[1;33m\u001b[0m\u001b[0m\n\u001b[0m\u001b[0;32m    115\u001b[0m         \u001b[1;32mreturn\u001b[0m \u001b[0mres\u001b[0m\u001b[1;33m\u001b[0m\u001b[1;33m\u001b[0m\u001b[0m\n\u001b[0;32m    116\u001b[0m     \u001b[1;32melse\u001b[0m\u001b[1;33m:\u001b[0m\u001b[1;33m\u001b[0m\u001b[1;33m\u001b[0m\u001b[0m\n",
      "\u001b[1;31mTypeError\u001b[0m: argument must be a string or number"
     ]
    }
   ],
   "source": [
    "#Convert all the columns to integer using LabelEncoder\n",
    "from sklearn.preprocessing import LabelEncoder\n",
    "for col in cat_cols:\n",
    "    print(col)\n",
    "    le = LabelEncoder()\n",
    "    le.fit(X_train[col])\n",
    "    X_train[col] = le.transform(X_train[col])\n",
    "    X_test[col] = le.transform(X_test[col])\n",
    "    test_data[col] = le.transform(test_data[col])"
   ]
  },
  {
   "cell_type": "code",
   "execution_count": 36,
   "metadata": {},
   "outputs": [
    {
     "ename": "AttributeError",
     "evalue": "'Series' object has no attribute 'isalnum'",
     "output_type": "error",
     "traceback": [
      "\u001b[1;31m---------------------------------------------------------------------------\u001b[0m",
      "\u001b[1;31mAttributeError\u001b[0m                            Traceback (most recent call last)",
      "\u001b[1;32m<ipython-input-36-bab90dbd148f>\u001b[0m in \u001b[0;36m<module>\u001b[1;34m\u001b[0m\n\u001b[1;32m----> 1\u001b[1;33m \u001b[0mX_train\u001b[0m\u001b[1;33m[\u001b[0m\u001b[1;34m'country_mother'\u001b[0m\u001b[1;33m]\u001b[0m\u001b[1;33m.\u001b[0m\u001b[0misalnum\u001b[0m\u001b[1;33m(\u001b[0m\u001b[1;33m)\u001b[0m\u001b[1;33m.\u001b[0m\u001b[0msum\u001b[0m\u001b[1;33m(\u001b[0m\u001b[1;33m)\u001b[0m\u001b[1;33m\u001b[0m\u001b[1;33m\u001b[0m\u001b[0m\n\u001b[0m",
      "\u001b[1;32m~\\anaconda3\\lib\\site-packages\\pandas\\core\\generic.py\u001b[0m in \u001b[0;36m__getattr__\u001b[1;34m(self, name)\u001b[0m\n\u001b[0;32m   5272\u001b[0m             \u001b[1;32mif\u001b[0m \u001b[0mself\u001b[0m\u001b[1;33m.\u001b[0m\u001b[0m_info_axis\u001b[0m\u001b[1;33m.\u001b[0m\u001b[0m_can_hold_identifiers_and_holds_name\u001b[0m\u001b[1;33m(\u001b[0m\u001b[0mname\u001b[0m\u001b[1;33m)\u001b[0m\u001b[1;33m:\u001b[0m\u001b[1;33m\u001b[0m\u001b[1;33m\u001b[0m\u001b[0m\n\u001b[0;32m   5273\u001b[0m                 \u001b[1;32mreturn\u001b[0m \u001b[0mself\u001b[0m\u001b[1;33m[\u001b[0m\u001b[0mname\u001b[0m\u001b[1;33m]\u001b[0m\u001b[1;33m\u001b[0m\u001b[1;33m\u001b[0m\u001b[0m\n\u001b[1;32m-> 5274\u001b[1;33m             \u001b[1;32mreturn\u001b[0m \u001b[0mobject\u001b[0m\u001b[1;33m.\u001b[0m\u001b[0m__getattribute__\u001b[0m\u001b[1;33m(\u001b[0m\u001b[0mself\u001b[0m\u001b[1;33m,\u001b[0m \u001b[0mname\u001b[0m\u001b[1;33m)\u001b[0m\u001b[1;33m\u001b[0m\u001b[1;33m\u001b[0m\u001b[0m\n\u001b[0m\u001b[0;32m   5275\u001b[0m \u001b[1;33m\u001b[0m\u001b[0m\n\u001b[0;32m   5276\u001b[0m     \u001b[1;32mdef\u001b[0m \u001b[0m__setattr__\u001b[0m\u001b[1;33m(\u001b[0m\u001b[0mself\u001b[0m\u001b[1;33m,\u001b[0m \u001b[0mname\u001b[0m\u001b[1;33m:\u001b[0m \u001b[0mstr\u001b[0m\u001b[1;33m,\u001b[0m \u001b[0mvalue\u001b[0m\u001b[1;33m)\u001b[0m \u001b[1;33m->\u001b[0m \u001b[1;32mNone\u001b[0m\u001b[1;33m:\u001b[0m\u001b[1;33m\u001b[0m\u001b[1;33m\u001b[0m\u001b[0m\n",
      "\u001b[1;31mAttributeError\u001b[0m: 'Series' object has no attribute 'isalnum'"
     ]
    }
   ],
   "source": [
    "X_train['country_mother']."
   ]
  },
  {
   "cell_type": "code",
   "execution_count": null,
   "metadata": {},
   "outputs": [],
   "source": [
    "X_train['migration_sunbelt'].value_counts()"
   ]
  },
  {
   "cell_type": "code",
   "execution_count": null,
   "metadata": {},
   "outputs": [],
   "source": [
    "X_train['migration_reg'].value_counts()"
   ]
  },
  {
   "cell_type": "markdown",
   "metadata": {},
   "source": [
    "d_household_family_stat throws error while label encoding, lets analyze it"
   ]
  },
  {
   "cell_type": "code",
   "execution_count": null,
   "metadata": {},
   "outputs": [],
   "source": [
    "(categorical_data['d_household_family_stat'].value_counts() == 1).sum()"
   ]
  },
  {
   "cell_type": "code",
   "execution_count": null,
   "metadata": {},
   "outputs": [],
   "source": [
    "#It has 5 values having only 1 occurence which have 50/50 to go in train or test set, let's try dropping the column\n",
    "X_train.drop('d_household_family_stat', axis=1, inplace=True)\n",
    "X_test.drop('d_household_family_stat', axis=1, inplace=True)\n",
    "test_data.drop('d_household_family_stat', axis=1, inplace=True)\n",
    "cat_cols.remove('d_household_family_stat')"
   ]
  },
  {
   "cell_type": "code",
   "execution_count": null,
   "metadata": {},
   "outputs": [],
   "source": [
    "#Lets retry Label Encoding\n",
    "#Convert all the columns to integer using LabelEncoder\n",
    "from sklearn.preprocessing import LabelEncoder\n",
    "for col in cat_cols:\n",
    "    print(col)\n",
    "    le = LabelEncoder()\n",
    "    le.fit(X_train[col])\n",
    "    X_train[col] = le.transform(X_train[col])\n",
    "    X_test[col] = le.transform(X_test[col])\n",
    "    test_data[col] = le.transform(test_data[col])"
   ]
  },
  {
   "cell_type": "code",
   "execution_count": null,
   "metadata": {},
   "outputs": [],
   "source": [
    "X_train.head()"
   ]
  },
  {
   "cell_type": "code",
   "execution_count": null,
   "metadata": {},
   "outputs": [],
   "source": [
    "X_test.head()"
   ]
  },
  {
   "cell_type": "markdown",
   "metadata": {},
   "source": [
    "### Feature Selection"
   ]
  },
  {
   "cell_type": "code",
   "execution_count": null,
   "metadata": {},
   "outputs": [],
   "source": [
    "#Standardize the data\n",
    "from sklearn.preprocessing import StandardScaler\n",
    "sc = StandardScaler()\n",
    "X_train = pd.DataFrame(sc.fit_transform(X_train), columns=X_train.columns)\n",
    "X_test = pd.DataFrame(sc.transform(X_test), columns=X_test.columns)\n",
    "X_train.head()"
   ]
  },
  {
   "cell_type": "markdown",
   "metadata": {},
   "source": [
    "### Modeling"
   ]
  },
  {
   "cell_type": "code",
   "execution_count": null,
   "metadata": {},
   "outputs": [],
   "source": [
    "#Logistic Regression\n",
    "from sklearn.linear_model import LogisticRegression\n",
    "from sklearn.metrics import classification_report\n",
    "lr = LogisticRegression()\n",
    "model = lr.fit(X_train, y_train)\n",
    "y_pred = model.predict(X_test)\n",
    "print(classification_report(y_pred, y_test))"
   ]
  }
 ],
 "metadata": {
  "kernelspec": {
   "display_name": "Python 3",
   "language": "python",
   "name": "python3"
  },
  "language_info": {
   "codemirror_mode": {
    "name": "ipython",
    "version": 3
   },
   "file_extension": ".py",
   "mimetype": "text/x-python",
   "name": "python",
   "nbconvert_exporter": "python",
   "pygments_lexer": "ipython3",
   "version": "3.7.6"
  }
 },
 "nbformat": 4,
 "nbformat_minor": 4
}
