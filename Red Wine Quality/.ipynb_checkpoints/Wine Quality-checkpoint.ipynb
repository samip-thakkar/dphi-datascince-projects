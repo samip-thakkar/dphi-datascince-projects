{
 "cells": [
  {
   "cell_type": "markdown",
   "metadata": {},
   "source": [
    "### Problem Statement: “Wine is bottled poetry.” The wine connoisseurs in a wine factory in Portugal are debating on the quality of red and white wines. They thought to take the help of Data Science industry for this work. "
   ]
  },
  {
   "cell_type": "code",
   "execution_count": 1,
   "metadata": {},
   "outputs": [],
   "source": [
    "#Import the libraries\n",
    "import pandas as pd\n",
    "import numpy as np\n",
    "import matplotlib.pyplot as plt\n",
    "import seaborn as sns"
   ]
  },
  {
   "cell_type": "code",
   "execution_count": 2,
   "metadata": {},
   "outputs": [
    {
     "data": {
      "text/html": [
       "<div>\n",
       "<style scoped>\n",
       "    .dataframe tbody tr th:only-of-type {\n",
       "        vertical-align: middle;\n",
       "    }\n",
       "\n",
       "    .dataframe tbody tr th {\n",
       "        vertical-align: top;\n",
       "    }\n",
       "\n",
       "    .dataframe thead th {\n",
       "        text-align: right;\n",
       "    }\n",
       "</style>\n",
       "<table border=\"1\" class=\"dataframe\">\n",
       "  <thead>\n",
       "    <tr style=\"text-align: right;\">\n",
       "      <th></th>\n",
       "      <th>fixed acidity</th>\n",
       "      <th>volatile acidity</th>\n",
       "      <th>citric acid</th>\n",
       "      <th>residual sugar</th>\n",
       "      <th>chlorides</th>\n",
       "      <th>free sulfur dioxide</th>\n",
       "      <th>total sulfur dioxide</th>\n",
       "      <th>density</th>\n",
       "      <th>pH</th>\n",
       "      <th>sulphates</th>\n",
       "      <th>alcohol</th>\n",
       "      <th>quality</th>\n",
       "    </tr>\n",
       "  </thead>\n",
       "  <tbody>\n",
       "    <tr>\n",
       "      <th>0</th>\n",
       "      <td>11.1</td>\n",
       "      <td>0.390</td>\n",
       "      <td>0.54</td>\n",
       "      <td>2.7</td>\n",
       "      <td>0.095</td>\n",
       "      <td>21.0</td>\n",
       "      <td>101.0</td>\n",
       "      <td>1.00010</td>\n",
       "      <td>3.13</td>\n",
       "      <td>0.51</td>\n",
       "      <td>9.5</td>\n",
       "      <td>5</td>\n",
       "    </tr>\n",
       "    <tr>\n",
       "      <th>1</th>\n",
       "      <td>15.6</td>\n",
       "      <td>0.645</td>\n",
       "      <td>0.49</td>\n",
       "      <td>4.2</td>\n",
       "      <td>0.095</td>\n",
       "      <td>10.0</td>\n",
       "      <td>23.0</td>\n",
       "      <td>1.00315</td>\n",
       "      <td>2.92</td>\n",
       "      <td>0.74</td>\n",
       "      <td>11.1</td>\n",
       "      <td>5</td>\n",
       "    </tr>\n",
       "    <tr>\n",
       "      <th>2</th>\n",
       "      <td>8.4</td>\n",
       "      <td>0.670</td>\n",
       "      <td>0.19</td>\n",
       "      <td>2.2</td>\n",
       "      <td>0.093</td>\n",
       "      <td>11.0</td>\n",
       "      <td>75.0</td>\n",
       "      <td>0.99736</td>\n",
       "      <td>3.20</td>\n",
       "      <td>0.59</td>\n",
       "      <td>9.2</td>\n",
       "      <td>4</td>\n",
       "    </tr>\n",
       "    <tr>\n",
       "      <th>3</th>\n",
       "      <td>7.7</td>\n",
       "      <td>0.180</td>\n",
       "      <td>0.34</td>\n",
       "      <td>2.7</td>\n",
       "      <td>0.066</td>\n",
       "      <td>15.0</td>\n",
       "      <td>58.0</td>\n",
       "      <td>0.99470</td>\n",
       "      <td>3.37</td>\n",
       "      <td>0.78</td>\n",
       "      <td>11.8</td>\n",
       "      <td>6</td>\n",
       "    </tr>\n",
       "    <tr>\n",
       "      <th>4</th>\n",
       "      <td>12.2</td>\n",
       "      <td>0.450</td>\n",
       "      <td>0.49</td>\n",
       "      <td>1.4</td>\n",
       "      <td>0.075</td>\n",
       "      <td>3.0</td>\n",
       "      <td>6.0</td>\n",
       "      <td>0.99690</td>\n",
       "      <td>3.13</td>\n",
       "      <td>0.63</td>\n",
       "      <td>10.4</td>\n",
       "      <td>5</td>\n",
       "    </tr>\n",
       "  </tbody>\n",
       "</table>\n",
       "</div>"
      ],
      "text/plain": [
       "   fixed acidity  volatile acidity  citric acid  residual sugar  chlorides  \\\n",
       "0           11.1             0.390         0.54             2.7      0.095   \n",
       "1           15.6             0.645         0.49             4.2      0.095   \n",
       "2            8.4             0.670         0.19             2.2      0.093   \n",
       "3            7.7             0.180         0.34             2.7      0.066   \n",
       "4           12.2             0.450         0.49             1.4      0.075   \n",
       "\n",
       "   free sulfur dioxide  total sulfur dioxide  density    pH  sulphates  \\\n",
       "0                 21.0                 101.0  1.00010  3.13       0.51   \n",
       "1                 10.0                  23.0  1.00315  2.92       0.74   \n",
       "2                 11.0                  75.0  0.99736  3.20       0.59   \n",
       "3                 15.0                  58.0  0.99470  3.37       0.78   \n",
       "4                  3.0                   6.0  0.99690  3.13       0.63   \n",
       "\n",
       "   alcohol  quality  \n",
       "0      9.5        5  \n",
       "1     11.1        5  \n",
       "2      9.2        4  \n",
       "3     11.8        6  \n",
       "4     10.4        5  "
      ]
     },
     "execution_count": 2,
     "metadata": {},
     "output_type": "execute_result"
    }
   ],
   "source": [
    "#Read the data\n",
    "data = pd.read_csv('https://raw.githubusercontent.com/dphi-official/Datasets/master/Wine_Dataset/Training_set_redwine.csv')\n",
    "data.head()"
   ]
  },
  {
   "cell_type": "code",
   "execution_count": 3,
   "metadata": {},
   "outputs": [
    {
     "data": {
      "text/html": [
       "<div>\n",
       "<style scoped>\n",
       "    .dataframe tbody tr th:only-of-type {\n",
       "        vertical-align: middle;\n",
       "    }\n",
       "\n",
       "    .dataframe tbody tr th {\n",
       "        vertical-align: top;\n",
       "    }\n",
       "\n",
       "    .dataframe thead th {\n",
       "        text-align: right;\n",
       "    }\n",
       "</style>\n",
       "<table border=\"1\" class=\"dataframe\">\n",
       "  <thead>\n",
       "    <tr style=\"text-align: right;\">\n",
       "      <th></th>\n",
       "      <th>fixed acidity</th>\n",
       "      <th>volatile acidity</th>\n",
       "      <th>citric acid</th>\n",
       "      <th>residual sugar</th>\n",
       "      <th>chlorides</th>\n",
       "      <th>free sulfur dioxide</th>\n",
       "      <th>total sulfur dioxide</th>\n",
       "      <th>density</th>\n",
       "      <th>pH</th>\n",
       "      <th>sulphates</th>\n",
       "      <th>alcohol</th>\n",
       "      <th>quality</th>\n",
       "    </tr>\n",
       "  </thead>\n",
       "  <tbody>\n",
       "    <tr>\n",
       "      <th>count</th>\n",
       "      <td>1119.000000</td>\n",
       "      <td>1119.000000</td>\n",
       "      <td>1119.000000</td>\n",
       "      <td>1119.000000</td>\n",
       "      <td>1119.000000</td>\n",
       "      <td>1119.000000</td>\n",
       "      <td>1119.000000</td>\n",
       "      <td>1119.000000</td>\n",
       "      <td>1119.000000</td>\n",
       "      <td>1119.000000</td>\n",
       "      <td>1119.000000</td>\n",
       "      <td>1119.000000</td>\n",
       "    </tr>\n",
       "    <tr>\n",
       "      <th>mean</th>\n",
       "      <td>8.345040</td>\n",
       "      <td>0.526609</td>\n",
       "      <td>0.270206</td>\n",
       "      <td>2.567248</td>\n",
       "      <td>0.086708</td>\n",
       "      <td>15.920018</td>\n",
       "      <td>46.411528</td>\n",
       "      <td>0.996765</td>\n",
       "      <td>3.308919</td>\n",
       "      <td>0.658231</td>\n",
       "      <td>10.436416</td>\n",
       "      <td>5.636282</td>\n",
       "    </tr>\n",
       "    <tr>\n",
       "      <th>std</th>\n",
       "      <td>1.776786</td>\n",
       "      <td>0.175865</td>\n",
       "      <td>0.195797</td>\n",
       "      <td>1.475748</td>\n",
       "      <td>0.044787</td>\n",
       "      <td>10.643919</td>\n",
       "      <td>33.363313</td>\n",
       "      <td>0.001942</td>\n",
       "      <td>0.156648</td>\n",
       "      <td>0.168539</td>\n",
       "      <td>1.068774</td>\n",
       "      <td>0.808589</td>\n",
       "    </tr>\n",
       "    <tr>\n",
       "      <th>min</th>\n",
       "      <td>4.700000</td>\n",
       "      <td>0.120000</td>\n",
       "      <td>0.000000</td>\n",
       "      <td>0.900000</td>\n",
       "      <td>0.012000</td>\n",
       "      <td>1.000000</td>\n",
       "      <td>6.000000</td>\n",
       "      <td>0.990070</td>\n",
       "      <td>2.740000</td>\n",
       "      <td>0.370000</td>\n",
       "      <td>8.400000</td>\n",
       "      <td>3.000000</td>\n",
       "    </tr>\n",
       "    <tr>\n",
       "      <th>25%</th>\n",
       "      <td>7.100000</td>\n",
       "      <td>0.390000</td>\n",
       "      <td>0.090000</td>\n",
       "      <td>1.900000</td>\n",
       "      <td>0.070000</td>\n",
       "      <td>7.000000</td>\n",
       "      <td>21.500000</td>\n",
       "      <td>0.995575</td>\n",
       "      <td>3.210000</td>\n",
       "      <td>0.550000</td>\n",
       "      <td>9.500000</td>\n",
       "      <td>5.000000</td>\n",
       "    </tr>\n",
       "    <tr>\n",
       "      <th>50%</th>\n",
       "      <td>7.900000</td>\n",
       "      <td>0.520000</td>\n",
       "      <td>0.260000</td>\n",
       "      <td>2.200000</td>\n",
       "      <td>0.079000</td>\n",
       "      <td>14.000000</td>\n",
       "      <td>37.000000</td>\n",
       "      <td>0.996760</td>\n",
       "      <td>3.310000</td>\n",
       "      <td>0.620000</td>\n",
       "      <td>10.200000</td>\n",
       "      <td>6.000000</td>\n",
       "    </tr>\n",
       "    <tr>\n",
       "      <th>75%</th>\n",
       "      <td>9.300000</td>\n",
       "      <td>0.635000</td>\n",
       "      <td>0.420000</td>\n",
       "      <td>2.600000</td>\n",
       "      <td>0.090000</td>\n",
       "      <td>21.000000</td>\n",
       "      <td>62.000000</td>\n",
       "      <td>0.997870</td>\n",
       "      <td>3.400000</td>\n",
       "      <td>0.730000</td>\n",
       "      <td>11.100000</td>\n",
       "      <td>6.000000</td>\n",
       "    </tr>\n",
       "    <tr>\n",
       "      <th>max</th>\n",
       "      <td>15.600000</td>\n",
       "      <td>1.580000</td>\n",
       "      <td>1.000000</td>\n",
       "      <td>15.400000</td>\n",
       "      <td>0.610000</td>\n",
       "      <td>72.000000</td>\n",
       "      <td>289.000000</td>\n",
       "      <td>1.003690</td>\n",
       "      <td>4.010000</td>\n",
       "      <td>2.000000</td>\n",
       "      <td>14.000000</td>\n",
       "      <td>8.000000</td>\n",
       "    </tr>\n",
       "  </tbody>\n",
       "</table>\n",
       "</div>"
      ],
      "text/plain": [
       "       fixed acidity  volatile acidity  citric acid  residual sugar  \\\n",
       "count    1119.000000       1119.000000  1119.000000     1119.000000   \n",
       "mean        8.345040          0.526609     0.270206        2.567248   \n",
       "std         1.776786          0.175865     0.195797        1.475748   \n",
       "min         4.700000          0.120000     0.000000        0.900000   \n",
       "25%         7.100000          0.390000     0.090000        1.900000   \n",
       "50%         7.900000          0.520000     0.260000        2.200000   \n",
       "75%         9.300000          0.635000     0.420000        2.600000   \n",
       "max        15.600000          1.580000     1.000000       15.400000   \n",
       "\n",
       "         chlorides  free sulfur dioxide  total sulfur dioxide      density  \\\n",
       "count  1119.000000          1119.000000           1119.000000  1119.000000   \n",
       "mean      0.086708            15.920018             46.411528     0.996765   \n",
       "std       0.044787            10.643919             33.363313     0.001942   \n",
       "min       0.012000             1.000000              6.000000     0.990070   \n",
       "25%       0.070000             7.000000             21.500000     0.995575   \n",
       "50%       0.079000            14.000000             37.000000     0.996760   \n",
       "75%       0.090000            21.000000             62.000000     0.997870   \n",
       "max       0.610000            72.000000            289.000000     1.003690   \n",
       "\n",
       "                pH    sulphates      alcohol      quality  \n",
       "count  1119.000000  1119.000000  1119.000000  1119.000000  \n",
       "mean      3.308919     0.658231    10.436416     5.636282  \n",
       "std       0.156648     0.168539     1.068774     0.808589  \n",
       "min       2.740000     0.370000     8.400000     3.000000  \n",
       "25%       3.210000     0.550000     9.500000     5.000000  \n",
       "50%       3.310000     0.620000    10.200000     6.000000  \n",
       "75%       3.400000     0.730000    11.100000     6.000000  \n",
       "max       4.010000     2.000000    14.000000     8.000000  "
      ]
     },
     "execution_count": 3,
     "metadata": {},
     "output_type": "execute_result"
    }
   ],
   "source": [
    "#Get the description of data\n",
    "data.describe()"
   ]
  },
  {
   "cell_type": "code",
   "execution_count": 4,
   "metadata": {},
   "outputs": [
    {
     "name": "stdout",
     "output_type": "stream",
     "text": [
      "<class 'pandas.core.frame.DataFrame'>\n",
      "RangeIndex: 1119 entries, 0 to 1118\n",
      "Data columns (total 12 columns):\n",
      " #   Column                Non-Null Count  Dtype  \n",
      "---  ------                --------------  -----  \n",
      " 0   fixed acidity         1119 non-null   float64\n",
      " 1   volatile acidity      1119 non-null   float64\n",
      " 2   citric acid           1119 non-null   float64\n",
      " 3   residual sugar        1119 non-null   float64\n",
      " 4   chlorides             1119 non-null   float64\n",
      " 5   free sulfur dioxide   1119 non-null   float64\n",
      " 6   total sulfur dioxide  1119 non-null   float64\n",
      " 7   density               1119 non-null   float64\n",
      " 8   pH                    1119 non-null   float64\n",
      " 9   sulphates             1119 non-null   float64\n",
      " 10  alcohol               1119 non-null   float64\n",
      " 11  quality               1119 non-null   int64  \n",
      "dtypes: float64(11), int64(1)\n",
      "memory usage: 105.0 KB\n"
     ]
    }
   ],
   "source": [
    "#Get the info of data\n",
    "data.info()"
   ]
  },
  {
   "cell_type": "code",
   "execution_count": 5,
   "metadata": {},
   "outputs": [
    {
     "data": {
      "text/plain": [
       "fixed acidity           0\n",
       "volatile acidity        0\n",
       "citric acid             0\n",
       "residual sugar          0\n",
       "chlorides               0\n",
       "free sulfur dioxide     0\n",
       "total sulfur dioxide    0\n",
       "density                 0\n",
       "pH                      0\n",
       "sulphates               0\n",
       "alcohol                 0\n",
       "quality                 0\n",
       "dtype: int64"
      ]
     },
     "execution_count": 5,
     "metadata": {},
     "output_type": "execute_result"
    }
   ],
   "source": [
    "#Check for null values\n",
    "data.isnull().sum()"
   ]
  },
  {
   "cell_type": "code",
   "execution_count": 6,
   "metadata": {},
   "outputs": [
    {
     "data": {
      "text/plain": [
       "5    477\n",
       "6    446\n",
       "7    139\n",
       "4     37\n",
       "8     13\n",
       "3      7\n",
       "Name: quality, dtype: int64"
      ]
     },
     "execution_count": 6,
     "metadata": {},
     "output_type": "execute_result"
    }
   ],
   "source": [
    "#Check the target value\n",
    "data.quality.value_counts()"
   ]
  },
  {
   "cell_type": "markdown",
   "metadata": {},
   "source": [
    "Data is highly imabalanced as poor quality(3 and 4) and high quality(7 and 8) have very low values(44 and 152) and medium quality has very high number of samples"
   ]
  },
  {
   "cell_type": "markdown",
   "metadata": {},
   "source": [
    "### Classification on all features"
   ]
  },
  {
   "cell_type": "code",
   "execution_count": 7,
   "metadata": {},
   "outputs": [
    {
     "name": "stdout",
     "output_type": "stream",
     "text": [
      "Features shape:  (1119, 11)\n",
      "Labels shape:  (1119,)\n"
     ]
    }
   ],
   "source": [
    "#Divide the data into featuers and label\n",
    "features = data.iloc[:, :-1]\n",
    "labels = data['quality']\n",
    "\n",
    "print(\"Features shape: \", features.shape)\n",
    "print(\"Labels shape: \", labels.shape)"
   ]
  },
  {
   "cell_type": "code",
   "execution_count": 8,
   "metadata": {},
   "outputs": [
    {
     "name": "stdout",
     "output_type": "stream",
     "text": [
      "Training samples shape:  (895, 11)\n",
      "Testing samples shape:  (224, 11)\n"
     ]
    }
   ],
   "source": [
    "#Divide the data into training and testing \n",
    "from sklearn.model_selection import train_test_split\n",
    "X_train, X_test, y_train, y_test = train_test_split(features, labels, train_size=0.8, random_state=42)\n",
    "\n",
    "print(\"Training samples shape: \", X_train.shape)\n",
    "print(\"Testing samples shape: \", X_test.shape)"
   ]
  },
  {
   "cell_type": "code",
   "execution_count": 9,
   "metadata": {},
   "outputs": [
    {
     "data": {
      "text/plain": [
       "Text(0.5, 1.0, 'Distribution of quality labels in traning data')"
      ]
     },
     "execution_count": 9,
     "metadata": {},
     "output_type": "execute_result"
    },
    {
     "data": {
      "image/png": "[encoded data removed]",
      "text/plain": [
       "<Figure size 720x720 with 1 Axes>"
      ]
     },
     "metadata": {
      "needs_background": "light"
     },
     "output_type": "display_data"
    }
   ],
   "source": [
    "#Check the labels distribution of training labels\n",
    "plt.figure(figsize = (10, 10))\n",
    "ax = sns.countplot(y_train)\n",
    "for p in ax.patches:\n",
    "    ax.annotate('{}'.format(p.get_height()), (p.get_x()+0.25, p.get_height()+5))\n",
    "plt.title(\"Distribution of quality labels in traning data\")"
   ]
  },
  {
   "cell_type": "code",
   "execution_count": 31,
   "metadata": {},
   "outputs": [],
   "source": [
    "#Random Forest\n",
    "from sklearn.ensemble import RandomForestClassifier\n",
    "rf = RandomForestClassifier(class_weight='balanced')\n",
    "model = rf.fit(X_train, y_train)\n",
    "y_pred = model.predict(X_test)"
   ]
  },
  {
   "cell_type": "code",
   "execution_count": 32,
   "metadata": {},
   "outputs": [
    {
     "name": "stdout",
     "output_type": "stream",
     "text": [
      "Accuracy:  0.6517857142857143\n",
      "F-1 score:  0.6674858383233698\n",
      "              precision    recall  f1-score   support\n",
      "\n",
      "           3       0.00      0.00      0.00         0\n",
      "           4       0.00      0.00      0.00         1\n",
      "           5       0.79      0.71      0.75       112\n",
      "           6       0.60      0.58      0.59        85\n",
      "           7       0.55      0.69      0.61        26\n",
      "           8       0.00      0.00      0.00         0\n",
      "\n",
      "    accuracy                           0.65       224\n",
      "   macro avg       0.32      0.33      0.32       224\n",
      "weighted avg       0.69      0.65      0.67       224\n",
      "\n"
     ]
    },
    {
     "name": "stderr",
     "output_type": "stream",
     "text": [
      "C:\\Users\\thakk\\anaconda3\\lib\\site-packages\\sklearn\\metrics\\_classification.py:1272: UndefinedMetricWarning: Recall and F-score are ill-defined and being set to 0.0 in labels with no true samples. Use `zero_division` parameter to control this behavior.\n",
      "  _warn_prf(average, modifier, msg_start, len(result))\n"
     ]
    }
   ],
   "source": [
    "#Evaluate model on test data\n",
    "from sklearn.metrics import accuracy_score, f1_score, classification_report\n",
    "print(\"Accuracy: \", accuracy_score(y_pred, y_test))\n",
    "print(\"F-1 score: \", f1_score(y_pred, y_test, average = 'weighted'))\n",
    "print(classification_report(y_pred, y_test))"
   ]
  },
  {
   "cell_type": "code",
   "execution_count": 13,
   "metadata": {},
   "outputs": [
    {
     "data": {
      "image/png": "[encoded data removed]",
      "text/plain": [
       "<Figure size 864x432 with 2 Axes>"
      ]
     },
     "metadata": {
      "needs_background": "light"
     },
     "output_type": "display_data"
    }
   ],
   "source": [
    "#Compare the results and prediction labels\n",
    "fig, ax = plt.subplots(1, 2, figsize = (12, 6))\n",
    "sns.countplot(y_test, ax = ax[0])\n",
    "sns.countplot(y_pred, ax = ax[1])\n",
    "for p in ax[0].patches:\n",
    "    ax[0].annotate('{}'.format(p.get_height()), (p.get_x()+0.25, p.get_height()+1))\n",
    "for p in ax[1].patches:\n",
    "    ax[1].annotate('{}'.format(p.get_height()), (p.get_x()+0.25, p.get_height()+1))\n",
    "plt.show()"
   ]
  },
  {
   "cell_type": "code",
   "execution_count": 14,
   "metadata": {},
   "outputs": [
    {
     "data": {
      "text/html": [
       "<div>\n",
       "<style scoped>\n",
       "    .dataframe tbody tr th:only-of-type {\n",
       "        vertical-align: middle;\n",
       "    }\n",
       "\n",
       "    .dataframe tbody tr th {\n",
       "        vertical-align: top;\n",
       "    }\n",
       "\n",
       "    .dataframe thead th {\n",
       "        text-align: right;\n",
       "    }\n",
       "</style>\n",
       "<table border=\"1\" class=\"dataframe\">\n",
       "  <thead>\n",
       "    <tr style=\"text-align: right;\">\n",
       "      <th></th>\n",
       "      <th>fixed acidity</th>\n",
       "      <th>volatile acidity</th>\n",
       "      <th>citric acid</th>\n",
       "      <th>residual sugar</th>\n",
       "      <th>chlorides</th>\n",
       "      <th>free sulfur dioxide</th>\n",
       "      <th>total sulfur dioxide</th>\n",
       "      <th>density</th>\n",
       "      <th>pH</th>\n",
       "      <th>sulphates</th>\n",
       "      <th>alcohol</th>\n",
       "    </tr>\n",
       "  </thead>\n",
       "  <tbody>\n",
       "    <tr>\n",
       "      <th>0</th>\n",
       "      <td>6.2</td>\n",
       "      <td>0.58</td>\n",
       "      <td>0.00</td>\n",
       "      <td>1.60</td>\n",
       "      <td>0.065</td>\n",
       "      <td>8.0</td>\n",
       "      <td>18.0</td>\n",
       "      <td>0.99660</td>\n",
       "      <td>3.56</td>\n",
       "      <td>0.84</td>\n",
       "      <td>9.4</td>\n",
       "    </tr>\n",
       "    <tr>\n",
       "      <th>1</th>\n",
       "      <td>7.0</td>\n",
       "      <td>0.50</td>\n",
       "      <td>0.25</td>\n",
       "      <td>2.00</td>\n",
       "      <td>0.070</td>\n",
       "      <td>3.0</td>\n",
       "      <td>22.0</td>\n",
       "      <td>0.99630</td>\n",
       "      <td>3.25</td>\n",
       "      <td>0.63</td>\n",
       "      <td>9.2</td>\n",
       "    </tr>\n",
       "    <tr>\n",
       "      <th>2</th>\n",
       "      <td>8.9</td>\n",
       "      <td>0.48</td>\n",
       "      <td>0.53</td>\n",
       "      <td>4.00</td>\n",
       "      <td>0.101</td>\n",
       "      <td>3.0</td>\n",
       "      <td>10.0</td>\n",
       "      <td>0.99586</td>\n",
       "      <td>3.21</td>\n",
       "      <td>0.59</td>\n",
       "      <td>12.1</td>\n",
       "    </tr>\n",
       "    <tr>\n",
       "      <th>3</th>\n",
       "      <td>11.2</td>\n",
       "      <td>0.50</td>\n",
       "      <td>0.74</td>\n",
       "      <td>5.15</td>\n",
       "      <td>0.100</td>\n",
       "      <td>5.0</td>\n",
       "      <td>17.0</td>\n",
       "      <td>0.99960</td>\n",
       "      <td>3.22</td>\n",
       "      <td>0.62</td>\n",
       "      <td>11.2</td>\n",
       "    </tr>\n",
       "    <tr>\n",
       "      <th>4</th>\n",
       "      <td>9.8</td>\n",
       "      <td>0.66</td>\n",
       "      <td>0.39</td>\n",
       "      <td>3.20</td>\n",
       "      <td>0.083</td>\n",
       "      <td>21.0</td>\n",
       "      <td>59.0</td>\n",
       "      <td>0.99890</td>\n",
       "      <td>3.37</td>\n",
       "      <td>0.71</td>\n",
       "      <td>11.5</td>\n",
       "    </tr>\n",
       "  </tbody>\n",
       "</table>\n",
       "</div>"
      ],
      "text/plain": [
       "   fixed acidity  volatile acidity  citric acid  residual sugar  chlorides  \\\n",
       "0            6.2              0.58         0.00            1.60      0.065   \n",
       "1            7.0              0.50         0.25            2.00      0.070   \n",
       "2            8.9              0.48         0.53            4.00      0.101   \n",
       "3           11.2              0.50         0.74            5.15      0.100   \n",
       "4            9.8              0.66         0.39            3.20      0.083   \n",
       "\n",
       "   free sulfur dioxide  total sulfur dioxide  density    pH  sulphates  \\\n",
       "0                  8.0                  18.0  0.99660  3.56       0.84   \n",
       "1                  3.0                  22.0  0.99630  3.25       0.63   \n",
       "2                  3.0                  10.0  0.99586  3.21       0.59   \n",
       "3                  5.0                  17.0  0.99960  3.22       0.62   \n",
       "4                 21.0                  59.0  0.99890  3.37       0.71   \n",
       "\n",
       "   alcohol  \n",
       "0      9.4  \n",
       "1      9.2  \n",
       "2     12.1  \n",
       "3     11.2  \n",
       "4     11.5  "
      ]
     },
     "execution_count": 14,
     "metadata": {},
     "output_type": "execute_result"
    }
   ],
   "source": [
    "#Test data\n",
    "test_data = pd.read_csv('https://raw.githubusercontent.com/dphi-official/Datasets/master/Wine_Dataset/Testing_set_redwine.csv')\n",
    "test_data.head()"
   ]
  },
  {
   "cell_type": "code",
   "execution_count": 15,
   "metadata": {},
   "outputs": [
    {
     "data": {
      "text/plain": [
       "array([5, 5, 7, 6, 7, 5, 5, 6, 6, 5, 5, 6, 6, 6, 6, 6, 5, 6, 6, 5, 5, 5,\n",
       "       5, 5, 5, 5, 5, 6, 5, 5, 6, 5, 5, 5, 7, 6, 6, 7, 5, 5, 6, 5, 5, 5,\n",
       "       5, 6, 6, 6, 6, 6, 6, 6, 5, 5, 6, 7, 5, 5, 5, 6, 6, 6, 5, 6, 5, 6,\n",
       "       5, 6, 6, 6, 5, 6, 6, 6, 6, 7, 5, 7, 6, 6, 6, 5, 6, 5, 7, 5, 5, 6,\n",
       "       5, 5, 5, 5, 6, 5, 5, 5, 7, 6, 6, 5, 5, 6, 5, 6, 6, 6, 6, 5, 6, 6,\n",
       "       6, 6, 5, 5, 7, 6, 5, 7, 6, 6, 6, 6, 6, 5, 6, 7, 6, 6, 7, 5, 6, 5,\n",
       "       5, 5, 5, 5, 6, 5, 6, 6, 5, 6, 6, 4, 7, 5, 6, 6, 5, 5, 6, 5, 6, 5,\n",
       "       5, 5, 5, 5, 5, 6, 6, 7, 5, 6, 5, 7, 5, 6, 5, 6, 5, 5, 5, 5, 5, 7,\n",
       "       6, 6, 5, 5, 6, 6, 5, 6, 5, 5, 3, 6, 6, 6, 6, 6, 6, 6, 6, 5, 5, 5,\n",
       "       5, 6, 6, 6, 6, 5, 6, 6, 6, 6, 6, 6, 5, 6, 6, 6, 5, 6, 5, 5, 6, 5,\n",
       "       7, 7, 6, 5, 6, 6, 6, 5, 5, 6, 6, 5, 5, 5, 6, 7, 6, 5, 5, 5, 6, 5,\n",
       "       5, 5, 5, 5, 5, 5, 5, 5, 5, 5, 5, 5, 5, 5, 6, 5, 6, 5, 6, 5, 6, 5,\n",
       "       5, 5, 6, 6, 6, 5, 5, 6, 6, 6, 6, 5, 6, 6, 5, 5, 5, 5, 6, 5, 5, 6,\n",
       "       5, 6, 6, 5, 5, 7, 6, 5, 5, 5, 5, 5, 5, 7, 5, 6, 6, 5, 5, 6, 7, 6,\n",
       "       5, 5, 5, 5, 7, 5, 5, 6, 6, 6, 6, 5, 5, 6, 5, 5, 5, 7, 6, 5, 6, 6,\n",
       "       6, 5, 5, 7, 5, 5, 7, 6, 6, 5, 7, 6, 5, 5, 5, 5, 7, 5, 7, 5, 5, 5,\n",
       "       5, 6, 6, 5, 5, 6, 6, 6, 6, 5, 6, 6, 6, 7, 6, 5, 5, 6, 6, 6, 7, 5,\n",
       "       6, 7, 6, 5, 5, 6, 6, 6, 6, 5, 6, 6, 5, 5, 5, 5, 5, 5, 5, 5, 5, 5,\n",
       "       7, 5, 5, 6, 6, 5, 6, 5, 5, 7, 6, 6, 6, 6, 5, 5, 5, 5, 6, 5, 7, 6,\n",
       "       6, 5, 5, 7, 5, 7, 6, 6, 6, 6, 6, 6, 5, 5, 7, 7, 5, 6, 5, 5, 5, 6,\n",
       "       5, 7, 5, 5, 5, 6, 5, 6, 5, 5, 6, 6, 5, 5, 5, 5, 6, 6, 5, 5, 6, 6,\n",
       "       6, 6, 5, 6, 5, 5, 5, 5, 5, 5, 5, 6, 5, 5, 5, 6, 6, 6], dtype=int64)"
      ]
     },
     "execution_count": 15,
     "metadata": {},
     "output_type": "execute_result"
    }
   ],
   "source": [
    "y_hat = model.predict(test_data)\n",
    "predictions = pd.DataFrame(y_hat, columns=['prediction']).to_csv('results.csv', index=False, header=True)\n",
    "y_hat"
   ]
  },
  {
   "cell_type": "code",
   "execution_count": 16,
   "metadata": {},
   "outputs": [],
   "source": [
    "#Hyperparameter tuning Random Forest\n",
    "\n",
    "from sklearn.model_selection import RandomizedSearchCV\n",
    "# Number of trees in random forest\n",
    "n_estimators = [int(x) for x in np.linspace(start = 200, stop = 2000, num = 10)]\n",
    "# Number of features to consider at every split\n",
    "max_features = ['auto', 'sqrt']\n",
    "# Maximum number of levels in tree\n",
    "max_depth = [int(x) for x in np.linspace(10, 110, num = 11)]\n",
    "max_depth.append(None)\n",
    "# Minimum number of samples required to split a node\n",
    "min_samples_split = [2, 5, 10]\n",
    "# Minimum number of samples required at each leaf node\n",
    "min_samples_leaf = [1, 2, 4]\n",
    "# Method of selecting samples for training each tree\n",
    "bootstrap = [True, False]\n",
    "# Create the random grid\n",
    "random_grid = {'n_estimators': n_estimators,\n",
    "               'max_features': max_features,\n",
    "               'max_depth': max_depth,\n",
    "               'min_samples_split': min_samples_split,\n",
    "               'min_samples_leaf': min_samples_leaf,\n",
    "               'bootstrap': bootstrap}"
   ]
  },
  {
   "cell_type": "code",
   "execution_count": 17,
   "metadata": {},
   "outputs": [
    {
     "name": "stdout",
     "output_type": "stream",
     "text": [
      "Fitting 3 folds for each of 100 candidates, totalling 300 fits\n"
     ]
    },
    {
     "name": "stderr",
     "output_type": "stream",
     "text": [
      "[Parallel(n_jobs=-1)]: Using backend LokyBackend with 12 concurrent workers.\n",
      "[Parallel(n_jobs=-1)]: Done  17 tasks      | elapsed:    7.1s\n",
      "[Parallel(n_jobs=-1)]: Done 138 tasks      | elapsed:   46.9s\n",
      "[Parallel(n_jobs=-1)]: Done 300 out of 300 | elapsed:  1.7min finished\n"
     ]
    },
    {
     "data": {
      "text/plain": [
       "RandomizedSearchCV(cv=3, error_score=nan,\n",
       "                   estimator=RandomForestClassifier(bootstrap=True,\n",
       "                                                    ccp_alpha=0.0,\n",
       "                                                    class_weight=None,\n",
       "                                                    criterion='gini',\n",
       "                                                    max_depth=None,\n",
       "                                                    max_features='auto',\n",
       "                                                    max_leaf_nodes=None,\n",
       "                                                    max_samples=None,\n",
       "                                                    min_impurity_decrease=0.0,\n",
       "                                                    min_impurity_split=None,\n",
       "                                                    min_samples_leaf=1,\n",
       "                                                    min_samples_split=2,\n",
       "                                                    min_weight_fraction_leaf=0.0,\n",
       "                                                    n_estimators=100,\n",
       "                                                    n_jobs...\n",
       "                   param_distributions={'bootstrap': [True, False],\n",
       "                                        'max_depth': [10, 20, 30, 40, 50, 60,\n",
       "                                                      70, 80, 90, 100, 110,\n",
       "                                                      None],\n",
       "                                        'max_features': ['auto', 'sqrt'],\n",
       "                                        'min_samples_leaf': [1, 2, 4],\n",
       "                                        'min_samples_split': [2, 5, 10],\n",
       "                                        'n_estimators': [200, 400, 600, 800,\n",
       "                                                         1000, 1200, 1400, 1600,\n",
       "                                                         1800, 2000]},\n",
       "                   pre_dispatch='2*n_jobs', random_state=42, refit=True,\n",
       "                   return_train_score=False, scoring=None, verbose=2)"
      ]
     },
     "execution_count": 17,
     "metadata": {},
     "output_type": "execute_result"
    }
   ],
   "source": [
    "rf = RandomForestClassifier()\n",
    "# Random search of parameters, using 3 fold cross validation, \n",
    "# search across 100 different combinations, and use all available cores\n",
    "rf_random = RandomizedSearchCV(estimator = rf, param_distributions = random_grid, n_iter = 100, cv = 3, verbose=2, random_state=42, n_jobs = -1)\n",
    "# Fit the random search model\n",
    "rf_random.fit(X_train, y_train)"
   ]
  },
  {
   "cell_type": "code",
   "execution_count": 18,
   "metadata": {},
   "outputs": [
    {
     "data": {
      "text/plain": [
       "{'n_estimators': 2000,\n",
       " 'min_samples_split': 5,\n",
       " 'min_samples_leaf': 1,\n",
       " 'max_features': 'sqrt',\n",
       " 'max_depth': 100,\n",
       " 'bootstrap': True}"
      ]
     },
     "execution_count": 18,
     "metadata": {},
     "output_type": "execute_result"
    }
   ],
   "source": [
    "rf_random.best_params_"
   ]
  },
  {
   "cell_type": "code",
   "execution_count": 22,
   "metadata": {},
   "outputs": [
    {
     "name": "stdout",
     "output_type": "stream",
     "text": [
      "Accuracy:  0.9865162369237952\n"
     ]
    }
   ],
   "source": [
    "rf = RandomForestClassifier(n_estimators=1200, min_samples_split=2, min_samples_leaf=2, max_features='sqrt', max_depth=20, bootstrap=True)\n",
    "model = rf.fit(features, labels)\n",
    "y_pred = model.predict(X_test)\n",
    "accuracy = accuracy_score(y_pred, y_test) ** (0.5)\n",
    "print(\"Accuracy: \", accuracy)"
   ]
  },
  {
   "cell_type": "code",
   "execution_count": 23,
   "metadata": {},
   "outputs": [
    {
     "data": {
      "text/plain": [
       "array([5, 6, 7, 6, 7, 5, 5, 6, 6, 5, 5, 6, 6, 6, 6, 6, 6, 6, 6, 5, 5, 5,\n",
       "       5, 5, 5, 5, 6, 6, 5, 5, 5, 5, 5, 5, 7, 6, 6, 6, 5, 5, 6, 5, 5, 5,\n",
       "       5, 6, 6, 6, 6, 6, 6, 6, 5, 5, 6, 7, 5, 5, 5, 6, 6, 6, 5, 6, 5, 6,\n",
       "       5, 6, 6, 6, 5, 6, 6, 6, 6, 7, 5, 6, 6, 6, 6, 5, 6, 5, 7, 5, 5, 7,\n",
       "       5, 5, 5, 5, 6, 5, 5, 5, 7, 6, 6, 5, 5, 6, 5, 6, 6, 7, 6, 5, 6, 6,\n",
       "       6, 6, 5, 5, 7, 6, 5, 7, 6, 6, 6, 6, 6, 5, 6, 7, 6, 6, 7, 5, 6, 5,\n",
       "       5, 5, 5, 5, 5, 6, 6, 5, 5, 6, 6, 6, 7, 5, 6, 6, 5, 5, 6, 5, 6, 5,\n",
       "       5, 5, 5, 5, 5, 6, 6, 7, 5, 6, 5, 7, 5, 6, 5, 6, 5, 5, 5, 5, 5, 7,\n",
       "       6, 6, 5, 5, 6, 6, 5, 6, 5, 5, 6, 6, 7, 6, 6, 6, 6, 7, 6, 5, 5, 5,\n",
       "       5, 6, 6, 6, 6, 5, 6, 6, 6, 5, 6, 6, 5, 6, 6, 6, 5, 6, 5, 5, 6, 5,\n",
       "       6, 7, 6, 5, 6, 6, 6, 5, 5, 6, 6, 5, 5, 5, 6, 7, 5, 5, 5, 5, 6, 5,\n",
       "       6, 5, 5, 6, 5, 5, 5, 6, 5, 5, 5, 5, 5, 5, 6, 5, 6, 5, 6, 5, 6, 5,\n",
       "       6, 5, 6, 6, 5, 5, 5, 6, 6, 6, 6, 5, 6, 6, 5, 5, 5, 5, 6, 5, 5, 6,\n",
       "       5, 6, 6, 5, 5, 7, 6, 5, 5, 5, 5, 5, 5, 7, 5, 6, 6, 5, 5, 6, 6, 6,\n",
       "       5, 5, 5, 5, 7, 5, 5, 6, 6, 6, 6, 5, 5, 7, 6, 5, 5, 7, 7, 5, 6, 6,\n",
       "       6, 5, 5, 7, 5, 5, 7, 6, 6, 5, 7, 6, 5, 5, 5, 5, 7, 5, 6, 5, 5, 5,\n",
       "       5, 6, 6, 5, 5, 6, 6, 6, 6, 5, 6, 6, 5, 7, 6, 5, 5, 6, 6, 6, 7, 5,\n",
       "       6, 7, 6, 5, 5, 6, 6, 6, 6, 5, 6, 5, 5, 5, 5, 5, 5, 5, 5, 5, 5, 5,\n",
       "       7, 5, 5, 6, 6, 5, 6, 5, 5, 7, 6, 6, 6, 6, 5, 5, 5, 5, 6, 5, 7, 6,\n",
       "       5, 5, 5, 7, 5, 7, 6, 6, 6, 6, 6, 6, 5, 5, 7, 7, 5, 6, 5, 6, 5, 6,\n",
       "       5, 7, 5, 5, 5, 6, 5, 6, 5, 5, 6, 6, 5, 5, 5, 5, 6, 6, 5, 5, 6, 6,\n",
       "       6, 6, 5, 6, 5, 5, 5, 5, 5, 5, 5, 5, 5, 5, 5, 6, 6, 6], dtype=int64)"
      ]
     },
     "execution_count": 23,
     "metadata": {},
     "output_type": "execute_result"
    }
   ],
   "source": [
    "y_hat = model.predict(test_data)\n",
    "predictions = pd.DataFrame(y_hat, columns=['prediction']).to_csv('results.csv', index=False, header=True)\n",
    "y_hat"
   ]
  },
  {
   "cell_type": "markdown",
   "metadata": {},
   "source": [
    "### Feature Selection"
   ]
  },
  {
   "cell_type": "code",
   "execution_count": 24,
   "metadata": {},
   "outputs": [
    {
     "data": {
      "text/plain": [
       "<matplotlib.axes._subplots.AxesSubplot at 0x21a29050a08>"
      ]
     },
     "execution_count": 24,
     "metadata": {},
     "output_type": "execute_result"
    },
    {
     "data": {
      "image/png": "[encoded data removed]",
      "text/plain": [
       "<Figure size 864x864 with 2 Axes>"
      ]
     },
     "metadata": {
      "needs_background": "light"
     },
     "output_type": "display_data"
    }
   ],
   "source": [
    "#View the correlation\n",
    "plt.rcParams['figure.figsize'] = 12, 12\n",
    "sns.heatmap(features.corr(), annot = True)"
   ]
  },
  {
   "cell_type": "code",
   "execution_count": null,
   "metadata": {},
   "outputs": [],
   "source": []
  }
 ],
 "metadata": {
  "kernelspec": {
   "display_name": "Python 3",
   "language": "python",
   "name": "python3"
  },
  "language_info": {
   "codemirror_mode": {
    "name": "ipython",
    "version": 3
   },
   "file_extension": ".py",
   "mimetype": "text/x-python",
   "name": "python",
   "nbconvert_exporter": "python",
   "pygments_lexer": "ipython3",
   "version": "3.7.6"
  }
 },
 "nbformat": 4,
 "nbformat_minor": 4
}
