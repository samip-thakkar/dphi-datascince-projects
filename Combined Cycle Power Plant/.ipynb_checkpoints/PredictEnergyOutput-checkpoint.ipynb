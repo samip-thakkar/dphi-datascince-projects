{
 "cells": [
  {
   "cell_type": "markdown",
   "metadata": {},
   "source": [
    "### Problem Statement: A combined-cycle power plant uses both gas and a steam turbine together to produce up to 50 percent more electricity from the same fuel than a traditional simple-cycle plant. The waste heat from the gas turbine is routed to the nearby steam turbine, which generates extra power. All the UN Member States have to submit a report on the combined cycle power plant to the United Nations. The Power Plant officials of Mexico are devising a way to predict the net hourly electrical energy output (PE) of the plant. You are appointed as the chief for this operation. Create a Machine Learning Model to solve this problem efficiently."
   ]
  },
  {
   "cell_type": "code",
   "execution_count": 1,
   "metadata": {},
   "outputs": [],
   "source": [
    "#Import the libraries\n",
    "import pandas as pd\n",
    "import numpy as np\n",
    "import matplotlib.pyplot as plt\n",
    "import seaborn as sns"
   ]
  },
  {
   "cell_type": "code",
   "execution_count": 2,
   "metadata": {},
   "outputs": [
    {
     "data": {
      "text/html": [
       "<div>\n",
       "<style scoped>\n",
       "    .dataframe tbody tr th:only-of-type {\n",
       "        vertical-align: middle;\n",
       "    }\n",
       "\n",
       "    .dataframe tbody tr th {\n",
       "        vertical-align: top;\n",
       "    }\n",
       "\n",
       "    .dataframe thead th {\n",
       "        text-align: right;\n",
       "    }\n",
       "</style>\n",
       "<table border=\"1\" class=\"dataframe\">\n",
       "  <thead>\n",
       "    <tr style=\"text-align: right;\">\n",
       "      <th></th>\n",
       "      <th>AT</th>\n",
       "      <th>EV</th>\n",
       "      <th>AP</th>\n",
       "      <th>RH</th>\n",
       "      <th>PE</th>\n",
       "    </tr>\n",
       "  </thead>\n",
       "  <tbody>\n",
       "    <tr>\n",
       "      <th>0</th>\n",
       "      <td>29.95</td>\n",
       "      <td>73.42</td>\n",
       "      <td>1011.44</td>\n",
       "      <td>66.32</td>\n",
       "      <td>432.81</td>\n",
       "    </tr>\n",
       "    <tr>\n",
       "      <th>1</th>\n",
       "      <td>5.76</td>\n",
       "      <td>40.07</td>\n",
       "      <td>1013.22</td>\n",
       "      <td>62.99</td>\n",
       "      <td>494.67</td>\n",
       "    </tr>\n",
       "    <tr>\n",
       "      <th>2</th>\n",
       "      <td>29.44</td>\n",
       "      <td>64.33</td>\n",
       "      <td>1011.40</td>\n",
       "      <td>61.78</td>\n",
       "      <td>442.32</td>\n",
       "    </tr>\n",
       "    <tr>\n",
       "      <th>3</th>\n",
       "      <td>32.83</td>\n",
       "      <td>74.33</td>\n",
       "      <td>1011.44</td>\n",
       "      <td>50.42</td>\n",
       "      <td>427.36</td>\n",
       "    </tr>\n",
       "    <tr>\n",
       "      <th>4</th>\n",
       "      <td>16.86</td>\n",
       "      <td>39.63</td>\n",
       "      <td>1004.47</td>\n",
       "      <td>83.50</td>\n",
       "      <td>466.68</td>\n",
       "    </tr>\n",
       "  </tbody>\n",
       "</table>\n",
       "</div>"
      ],
      "text/plain": [
       "      AT     EV       AP     RH      PE\n",
       "0  29.95  73.42  1011.44  66.32  432.81\n",
       "1   5.76  40.07  1013.22  62.99  494.67\n",
       "2  29.44  64.33  1011.40  61.78  442.32\n",
       "3  32.83  74.33  1011.44  50.42  427.36\n",
       "4  16.86  39.63  1004.47  83.50  466.68"
      ]
     },
     "execution_count": 2,
     "metadata": {},
     "output_type": "execute_result"
    }
   ],
   "source": [
    "#Read the data\n",
    "data = pd.read_csv('https://raw.githubusercontent.com/dphi-official/Datasets/master/CCPP/Training_set_ccpp.csv')\n",
    "data.head()"
   ]
  },
  {
   "cell_type": "code",
   "execution_count": 3,
   "metadata": {},
   "outputs": [
    {
     "data": {
      "text/html": [
       "<div>\n",
       "<style scoped>\n",
       "    .dataframe tbody tr th:only-of-type {\n",
       "        vertical-align: middle;\n",
       "    }\n",
       "\n",
       "    .dataframe tbody tr th {\n",
       "        vertical-align: top;\n",
       "    }\n",
       "\n",
       "    .dataframe thead th {\n",
       "        text-align: right;\n",
       "    }\n",
       "</style>\n",
       "<table border=\"1\" class=\"dataframe\">\n",
       "  <thead>\n",
       "    <tr style=\"text-align: right;\">\n",
       "      <th></th>\n",
       "      <th>AT</th>\n",
       "      <th>EV</th>\n",
       "      <th>AP</th>\n",
       "      <th>RH</th>\n",
       "      <th>PE</th>\n",
       "    </tr>\n",
       "  </thead>\n",
       "  <tbody>\n",
       "    <tr>\n",
       "      <th>count</th>\n",
       "      <td>6410.000000</td>\n",
       "      <td>6410.000000</td>\n",
       "      <td>6410.000000</td>\n",
       "      <td>6410.000000</td>\n",
       "      <td>6410.000000</td>\n",
       "    </tr>\n",
       "    <tr>\n",
       "      <th>mean</th>\n",
       "      <td>19.652120</td>\n",
       "      <td>54.298786</td>\n",
       "      <td>1013.227959</td>\n",
       "      <td>73.324212</td>\n",
       "      <td>454.363276</td>\n",
       "    </tr>\n",
       "    <tr>\n",
       "      <th>std</th>\n",
       "      <td>7.433792</td>\n",
       "      <td>12.685055</td>\n",
       "      <td>5.932562</td>\n",
       "      <td>14.675569</td>\n",
       "      <td>17.060129</td>\n",
       "    </tr>\n",
       "    <tr>\n",
       "      <th>min</th>\n",
       "      <td>1.810000</td>\n",
       "      <td>25.360000</td>\n",
       "      <td>992.890000</td>\n",
       "      <td>26.300000</td>\n",
       "      <td>420.260000</td>\n",
       "    </tr>\n",
       "    <tr>\n",
       "      <th>25%</th>\n",
       "      <td>13.580000</td>\n",
       "      <td>41.760000</td>\n",
       "      <td>1009.070000</td>\n",
       "      <td>63.352500</td>\n",
       "      <td>439.832500</td>\n",
       "    </tr>\n",
       "    <tr>\n",
       "      <th>50%</th>\n",
       "      <td>20.420000</td>\n",
       "      <td>52.080000</td>\n",
       "      <td>1012.955000</td>\n",
       "      <td>74.980000</td>\n",
       "      <td>451.440000</td>\n",
       "    </tr>\n",
       "    <tr>\n",
       "      <th>75%</th>\n",
       "      <td>25.720000</td>\n",
       "      <td>66.540000</td>\n",
       "      <td>1017.257500</td>\n",
       "      <td>84.897500</td>\n",
       "      <td>468.270000</td>\n",
       "    </tr>\n",
       "    <tr>\n",
       "      <th>max</th>\n",
       "      <td>35.560000</td>\n",
       "      <td>81.560000</td>\n",
       "      <td>1033.300000</td>\n",
       "      <td>100.160000</td>\n",
       "      <td>495.760000</td>\n",
       "    </tr>\n",
       "  </tbody>\n",
       "</table>\n",
       "</div>"
      ],
      "text/plain": [
       "                AT           EV           AP           RH           PE\n",
       "count  6410.000000  6410.000000  6410.000000  6410.000000  6410.000000\n",
       "mean     19.652120    54.298786  1013.227959    73.324212   454.363276\n",
       "std       7.433792    12.685055     5.932562    14.675569    17.060129\n",
       "min       1.810000    25.360000   992.890000    26.300000   420.260000\n",
       "25%      13.580000    41.760000  1009.070000    63.352500   439.832500\n",
       "50%      20.420000    52.080000  1012.955000    74.980000   451.440000\n",
       "75%      25.720000    66.540000  1017.257500    84.897500   468.270000\n",
       "max      35.560000    81.560000  1033.300000   100.160000   495.760000"
      ]
     },
     "execution_count": 3,
     "metadata": {},
     "output_type": "execute_result"
    }
   ],
   "source": [
    "#Get the description of the data\n",
    "data.describe()"
   ]
  },
  {
   "cell_type": "code",
   "execution_count": 4,
   "metadata": {},
   "outputs": [
    {
     "name": "stdout",
     "output_type": "stream",
     "text": [
      "<class 'pandas.core.frame.DataFrame'>\n",
      "RangeIndex: 6410 entries, 0 to 6409\n",
      "Data columns (total 5 columns):\n",
      " #   Column  Non-Null Count  Dtype  \n",
      "---  ------  --------------  -----  \n",
      " 0   AT      6410 non-null   float64\n",
      " 1   EV      6410 non-null   float64\n",
      " 2   AP      6410 non-null   float64\n",
      " 3   RH      6410 non-null   float64\n",
      " 4   PE      6410 non-null   float64\n",
      "dtypes: float64(5)\n",
      "memory usage: 250.5 KB\n"
     ]
    }
   ],
   "source": [
    "#Get the info of data\n",
    "data.info()"
   ]
  },
  {
   "cell_type": "code",
   "execution_count": 5,
   "metadata": {},
   "outputs": [
    {
     "name": "stdout",
     "output_type": "stream",
     "text": [
      "Features shape:  (6410, 4)\n",
      "Target shape:  (6410,)\n"
     ]
    }
   ],
   "source": [
    "features = data.iloc[:, :-1]\n",
    "target = data['PE']\n",
    "print(\"Features shape: \", features.shape)\n",
    "print(\"Target shape: \", target.shape)"
   ]
  },
  {
   "cell_type": "code",
   "execution_count": 6,
   "metadata": {},
   "outputs": [],
   "source": [
    "#Divide the data into train and test \n",
    "def get_train_test(features, target):\n",
    "    from sklearn.model_selection import train_test_split\n",
    "    X_train, X_test, y_train, y_test = train_test_split(features, target, train_size=0.75, random_state=42)\n",
    "\n",
    "    print(\"X_train shape: \", X_train.shape)\n",
    "    print(\"X_test shape: \", X_test.shape)\n",
    "    print(\"Y_train shape: \", y_train.shape)\n",
    "    print(\"Y_test shape: \", y_test.shape)\n",
    "    \n",
    "    return X_train, X_test, y_train, y_test"
   ]
  },
  {
   "cell_type": "code",
   "execution_count": 7,
   "metadata": {},
   "outputs": [],
   "source": [
    "#Build a regressor\n",
    "from sklearn.linear_model import LinearRegression\n",
    "def regressionModel(X_train, y_train):\n",
    "    lr = LinearRegression()\n",
    "    model = lr.fit(X_train, y_train)\n",
    "    return model"
   ]
  },
  {
   "cell_type": "code",
   "execution_count": 8,
   "metadata": {},
   "outputs": [],
   "source": [
    "#Evaluate the model\n",
    "from sklearn.metrics import mean_squared_error\n",
    "def predictAndEvaluate(model, X_test, y_test):\n",
    "    y_pred = model.predict(X_test)\n",
    "    mse = mean_squared_error(y_pred, y_test)\n",
    "    rmse = mse ** (0.5)\n",
    "    print(\"RMSE: \", rmse)\n",
    "    return rmse"
   ]
  },
  {
   "cell_type": "code",
   "execution_count": 9,
   "metadata": {},
   "outputs": [
    {
     "data": {
      "text/html": [
       "<div>\n",
       "<style scoped>\n",
       "    .dataframe tbody tr th:only-of-type {\n",
       "        vertical-align: middle;\n",
       "    }\n",
       "\n",
       "    .dataframe tbody tr th {\n",
       "        vertical-align: top;\n",
       "    }\n",
       "\n",
       "    .dataframe thead th {\n",
       "        text-align: right;\n",
       "    }\n",
       "</style>\n",
       "<table border=\"1\" class=\"dataframe\">\n",
       "  <thead>\n",
       "    <tr style=\"text-align: right;\">\n",
       "      <th></th>\n",
       "      <th>AT</th>\n",
       "      <th>EV</th>\n",
       "      <th>AP</th>\n",
       "      <th>RH</th>\n",
       "    </tr>\n",
       "  </thead>\n",
       "  <tbody>\n",
       "    <tr>\n",
       "      <th>0</th>\n",
       "      <td>19.64</td>\n",
       "      <td>48.06</td>\n",
       "      <td>1014.81</td>\n",
       "      <td>74.96</td>\n",
       "    </tr>\n",
       "    <tr>\n",
       "      <th>1</th>\n",
       "      <td>28.26</td>\n",
       "      <td>69.23</td>\n",
       "      <td>1013.01</td>\n",
       "      <td>42.10</td>\n",
       "    </tr>\n",
       "    <tr>\n",
       "      <th>2</th>\n",
       "      <td>27.98</td>\n",
       "      <td>67.17</td>\n",
       "      <td>1007.32</td>\n",
       "      <td>75.29</td>\n",
       "    </tr>\n",
       "    <tr>\n",
       "      <th>3</th>\n",
       "      <td>28.64</td>\n",
       "      <td>69.23</td>\n",
       "      <td>1013.11</td>\n",
       "      <td>37.13</td>\n",
       "    </tr>\n",
       "    <tr>\n",
       "      <th>4</th>\n",
       "      <td>9.34</td>\n",
       "      <td>38.08</td>\n",
       "      <td>1019.56</td>\n",
       "      <td>67.74</td>\n",
       "    </tr>\n",
       "  </tbody>\n",
       "</table>\n",
       "</div>"
      ],
      "text/plain": [
       "      AT     EV       AP     RH\n",
       "0  19.64  48.06  1014.81  74.96\n",
       "1  28.26  69.23  1013.01  42.10\n",
       "2  27.98  67.17  1007.32  75.29\n",
       "3  28.64  69.23  1013.11  37.13\n",
       "4   9.34  38.08  1019.56  67.74"
      ]
     },
     "execution_count": 9,
     "metadata": {},
     "output_type": "execute_result"
    }
   ],
   "source": [
    "#Get the test data\n",
    "test_data = pd.read_csv('https://raw.githubusercontent.com/dphi-official/Datasets/master/CCPP/Testing_set_ccpp.csv')\n",
    "test_data.head()"
   ]
  },
  {
   "cell_type": "code",
   "execution_count": 10,
   "metadata": {},
   "outputs": [],
   "source": [
    "#Predict on test data and store predictions in csv\n",
    "def createCSV(model, test_data):\n",
    "    y_hat = model.predict(test_data)\n",
    "    predictions = pd.DataFrame(y_hat, columns = ['prediction']).to_csv('results.csv', index = False, header = True)"
   ]
  },
  {
   "cell_type": "markdown",
   "metadata": {},
   "source": [
    "### Simple Linear Regression on all features"
   ]
  },
  {
   "cell_type": "code",
   "execution_count": 11,
   "metadata": {},
   "outputs": [
    {
     "name": "stdout",
     "output_type": "stream",
     "text": [
      "X_train shape:  (4807, 4)\n",
      "X_test shape:  (1603, 4)\n",
      "Y_train shape:  (4807,)\n",
      "Y_test shape:  (1603,)\n",
      "RMSE:  4.638442104309208\n"
     ]
    }
   ],
   "source": [
    "X_train, X_test, y_train, y_test = get_train_test(features, target)\n",
    "lr_model = regressionModel(X_train, y_train)\n",
    "lr_rmse = predictAndEvaluate(lr_model, X_test, y_test)\n",
    "createCSV(lr_model, test_data)\n",
    "\n"
   ]
  },
  {
   "cell_type": "markdown",
   "metadata": {},
   "source": [
    "### Scaling the features"
   ]
  },
  {
   "cell_type": "code",
   "execution_count": 12,
   "metadata": {},
   "outputs": [
    {
     "data": {
      "text/plain": [
       "array([[ 1.38538751e+00,  1.50749885e+00, -3.01404146e-01,\n",
       "        -4.77307458e-01],\n",
       "       [-1.86892544e+00, -1.12178438e+00, -1.34175735e-03,\n",
       "        -7.04232885e-01],\n",
       "       [ 1.31677653e+00,  7.90851634e-01, -3.08147121e-01,\n",
       "        -7.86689271e-01],\n",
       "       ...,\n",
       "       [ 1.09479983e+00,  1.17716311e+00, -6.20285326e-02,\n",
       "        -1.88179186e+00],\n",
       "       [-9.94471776e-01, -1.00904450e+00,  2.76805962e-01,\n",
       "         1.09617846e+00],\n",
       "       [-1.06308276e+00, -1.08394162e+00,  8.19615452e-01,\n",
       "         1.66110692e+00]])"
      ]
     },
     "execution_count": 12,
     "metadata": {},
     "output_type": "execute_result"
    }
   ],
   "source": [
    "from sklearn.preprocessing import StandardScaler\n",
    "sc = StandardScaler()\n",
    "sc.fit(features)\n",
    "features_scaled = sc.transform(features)\n",
    "features_scaled"
   ]
  },
  {
   "cell_type": "code",
   "execution_count": 13,
   "metadata": {},
   "outputs": [
    {
     "data": {
      "text/plain": [
       "array([[-1.25855123e-03, -4.90826112e-01,  2.50006017e-01,\n",
       "         1.16428188e-01],\n",
       "       [ 1.14957219e+00,  1.16903171e+00, -5.24697943e-02,\n",
       "        -2.15821928e+00],\n",
       "       [ 1.11219022e+00,  1.00751507e+00, -1.00862944e+00,\n",
       "         1.39271574e-01],\n",
       "       ...,\n",
       "       [ 1.56611418e+00,  1.33290052e+00, -6.97751525e-01,\n",
       "        -8.90065243e-01],\n",
       "       [-9.70519710e-01, -6.90761749e-01,  4.75182454e-01,\n",
       "         5.60143656e-01],\n",
       "       [ 3.60545545e-01,  8.85201509e-01,  4.95347509e-01,\n",
       "         4.51291351e-02]])"
      ]
     },
     "execution_count": 13,
     "metadata": {},
     "output_type": "execute_result"
    }
   ],
   "source": [
    "test_data_scaled = sc.fit_transform(test_data)\n",
    "test_data_scaled"
   ]
  },
  {
   "cell_type": "code",
   "execution_count": 14,
   "metadata": {},
   "outputs": [
    {
     "name": "stdout",
     "output_type": "stream",
     "text": [
      "X_train shape:  (4807, 4)\n",
      "X_test shape:  (1603, 4)\n",
      "Y_train shape:  (4807,)\n",
      "Y_test shape:  (1603,)\n",
      "RMSE:  4.638442104309208\n"
     ]
    }
   ],
   "source": [
    "X_train, X_test, y_train, y_test = get_train_test(features_scaled, target)\n",
    "lr_scaled_model = regressionModel(X_train, y_train)\n",
    "lr_scaled_rmse = predictAndEvaluate(lr_scaled_model, X_test, y_test)\n",
    "createCSV(lr_scaled_model, test_data_scaled)"
   ]
  },
  {
   "cell_type": "markdown",
   "metadata": {},
   "source": [
    "### Applying PCA"
   ]
  },
  {
   "cell_type": "code",
   "execution_count": 15,
   "metadata": {},
   "outputs": [
    {
     "data": {
      "text/plain": [
       "array([[ 20.03514746, -10.6877844 ],\n",
       "       [ -5.93024256,  19.59741809],\n",
       "       [ 17.9489378 ,  -1.35964217],\n",
       "       ...,\n",
       "       [ 31.46961904,   6.88565458],\n",
       "       [-21.85057978,  -0.40479428],\n",
       "       [-28.95458134,  -4.68020164]])"
      ]
     },
     "execution_count": 15,
     "metadata": {},
     "output_type": "execute_result"
    }
   ],
   "source": [
    "from sklearn.decomposition import PCA\n",
    "pca = PCA(n_components = 2)\n",
    "features_reduced = pca.fit_transform(features)\n",
    "features_reduced"
   ]
  },
  {
   "cell_type": "code",
   "execution_count": 16,
   "metadata": {},
   "outputs": [
    {
     "data": {
      "text/plain": [
       "array([[ -5.05728963,   3.18987692],\n",
       "       [ 33.91671656,  10.3390723 ],\n",
       "       [ 10.1506568 , -12.72696879],\n",
       "       ...,\n",
       "       [ 24.05644899,  -5.31672886],\n",
       "       [-14.00791942,   2.13999396],\n",
       "       [  6.88486539,  -7.75118945]])"
      ]
     },
     "execution_count": 16,
     "metadata": {},
     "output_type": "execute_result"
    }
   ],
   "source": [
    "test_data_reduced = pca.fit_transform(test_data)\n",
    "test_data_reduced"
   ]
  },
  {
   "cell_type": "code",
   "execution_count": 17,
   "metadata": {},
   "outputs": [
    {
     "name": "stdout",
     "output_type": "stream",
     "text": [
      "X_train shape:  (4807, 2)\n",
      "X_test shape:  (1603, 2)\n",
      "Y_train shape:  (4807,)\n",
      "Y_test shape:  (1603,)\n",
      "RMSE:  6.7714965137714715\n"
     ]
    }
   ],
   "source": [
    "X_train, X_test, y_train, y_test = get_train_test(features_reduced, target)\n",
    "lr_reduced_model = regressionModel(X_train, y_train)\n",
    "lr_reduced_rmse = predictAndEvaluate(lr_reduced_model, X_test, y_test)\n",
    "createCSV(lr_reduced_model, test_data_reduced)"
   ]
  },
  {
   "cell_type": "markdown",
   "metadata": {},
   "source": [
    "### Feature Selection"
   ]
  },
  {
   "cell_type": "code",
   "execution_count": 18,
   "metadata": {},
   "outputs": [
    {
     "data": {
      "text/plain": [
       "<matplotlib.axes._subplots.AxesSubplot at 0x2a17723ffc8>"
      ]
     },
     "execution_count": 18,
     "metadata": {},
     "output_type": "execute_result"
    },
    {
     "data": {
      "image/png": "[encoded data removed]",
      "text/plain": [
       "<Figure size 864x864 with 2 Axes>"
      ]
     },
     "metadata": {
      "needs_background": "light"
     },
     "output_type": "display_data"
    }
   ],
   "source": [
    "#Get the correlation among columns\n",
    "plt.rcParams['figure.figsize'] = 12, 12\n",
    "sns.heatmap(data.corr(), annot = True)"
   ]
  },
  {
   "cell_type": "code",
   "execution_count": 19,
   "metadata": {},
   "outputs": [
    {
     "data": {
      "text/plain": [
       "array([[29.95],\n",
       "       [ 5.76],\n",
       "       [29.44],\n",
       "       ...,\n",
       "       [27.79],\n",
       "       [12.26],\n",
       "       [11.75]])"
      ]
     },
     "execution_count": 19,
     "metadata": {},
     "output_type": "execute_result"
    }
   ],
   "source": [
    "#Consider only AT\n",
    "features_selected = data['AT'].values\n",
    "target = data['PE']\n",
    "features_selected = features_selected.reshape(-1, 1)\n",
    "features_selected"
   ]
  },
  {
   "cell_type": "code",
   "execution_count": 20,
   "metadata": {},
   "outputs": [
    {
     "data": {
      "text/plain": [
       "array([[19.64],\n",
       "       [28.26],\n",
       "       [27.98],\n",
       "       ...,\n",
       "       [31.38],\n",
       "       [12.38],\n",
       "       [22.35]])"
      ]
     },
     "execution_count": 20,
     "metadata": {},
     "output_type": "execute_result"
    }
   ],
   "source": [
    "test_data_selected = test_data['AT'].values.reshape(-1, 1)\n",
    "test_data_selected"
   ]
  },
  {
   "cell_type": "code",
   "execution_count": 21,
   "metadata": {},
   "outputs": [
    {
     "name": "stdout",
     "output_type": "stream",
     "text": [
      "X_train shape:  (4807, 1)\n",
      "X_test shape:  (1603, 1)\n",
      "Y_train shape:  (4807,)\n",
      "Y_test shape:  (1603,)\n",
      "RMSE:  5.475560870577123\n"
     ]
    }
   ],
   "source": [
    "X_train, X_test, y_train, y_test = get_train_test(features_selected, target)\n",
    "lr_selected_model = regressionModel(X_train, y_train)\n",
    "lr_selected_rmse = predictAndEvaluate(lr_selected_model, X_test, y_test)\n",
    "createCSV(lr_selected_model, test_data_selected)"
   ]
  },
  {
   "cell_type": "markdown",
   "metadata": {},
   "source": [
    "### Random Forest Regressor"
   ]
  },
  {
   "cell_type": "code",
   "execution_count": 22,
   "metadata": {},
   "outputs": [
    {
     "name": "stdout",
     "output_type": "stream",
     "text": [
      "RMSE:  3.4217580315096607\n"
     ]
    }
   ],
   "source": [
    "from sklearn.ensemble import RandomForestRegressor\n",
    "from sklearn.model_selection import train_test_split\n",
    "rf = RandomForestRegressor(n_estimators = 10)\n",
    "X_train, X_test, y_train, y_test = train_test_split(features, target)\n",
    "model = rf.fit(X_train, y_train)\n",
    "y_pred = rf.predict(X_test)\n",
    "rmse = mean_squared_error(y_pred, y_test) ** (0.5)\n",
    "print(\"RMSE: \", rmse)"
   ]
  },
  {
   "cell_type": "code",
   "execution_count": 23,
   "metadata": {},
   "outputs": [],
   "source": [
    "model = rf.fit(features, target)\n",
    "createCSV(model, test_data)"
   ]
  },
  {
   "cell_type": "code",
   "execution_count": 24,
   "metadata": {},
   "outputs": [],
   "source": [
    "#HyperParameter Tuning RandomForestRegressor\n",
    "\n",
    "from sklearn.model_selection import RandomizedSearchCV\n",
    "# Number of trees in random forest\n",
    "n_estimators = [int(x) for x in np.linspace(start = 200, stop = 2000, num = 10)]\n",
    "# Number of features to consider at every split\n",
    "max_features = ['auto', 'sqrt']\n",
    "# Maximum number of levels in tree\n",
    "max_depth = [int(x) for x in np.linspace(10, 110, num = 11)]\n",
    "max_depth.append(None)\n",
    "# Minimum number of samples required to split a node\n",
    "min_samples_split = [2, 5, 10]\n",
    "# Minimum number of samples required at each leaf node\n",
    "min_samples_leaf = [1, 2, 4]\n",
    "# Method of selecting samples for training each tree\n",
    "bootstrap = [True, False]\n",
    "# Create the random grid\n",
    "random_grid = {'n_estimators': n_estimators,\n",
    "               'max_features': max_features,\n",
    "               'max_depth': max_depth,\n",
    "               'min_samples_split': min_samples_split,\n",
    "               'min_samples_leaf': min_samples_leaf,\n",
    "               'bootstrap': bootstrap}"
   ]
  },
  {
   "cell_type": "code",
   "execution_count": 25,
   "metadata": {},
   "outputs": [
    {
     "name": "stdout",
     "output_type": "stream",
     "text": [
      "Fitting 3 folds for each of 100 candidates, totalling 300 fits\n"
     ]
    },
    {
     "name": "stderr",
     "output_type": "stream",
     "text": [
      "[Parallel(n_jobs=-1)]: Using backend LokyBackend with 12 concurrent workers.\n",
      "[Parallel(n_jobs=-1)]: Done  17 tasks      | elapsed:   21.6s\n",
      "[Parallel(n_jobs=-1)]: Done 138 tasks      | elapsed:  2.6min\n",
      "[Parallel(n_jobs=-1)]: Done 300 out of 300 | elapsed:  6.0min finished\n"
     ]
    },
    {
     "data": {
      "text/plain": [
       "RandomizedSearchCV(cv=3, error_score=nan,\n",
       "                   estimator=RandomForestRegressor(bootstrap=True,\n",
       "                                                   ccp_alpha=0.0,\n",
       "                                                   criterion='mse',\n",
       "                                                   max_depth=None,\n",
       "                                                   max_features='auto',\n",
       "                                                   max_leaf_nodes=None,\n",
       "                                                   max_samples=None,\n",
       "                                                   min_impurity_decrease=0.0,\n",
       "                                                   min_impurity_split=None,\n",
       "                                                   min_samples_leaf=1,\n",
       "                                                   min_samples_split=2,\n",
       "                                                   min_weight_fraction_leaf=0.0,\n",
       "                                                   n_estimators=100,\n",
       "                                                   n_jobs=None, oob_score=Fals...\n",
       "                   param_distributions={'bootstrap': [True, False],\n",
       "                                        'max_depth': [10, 20, 30, 40, 50, 60,\n",
       "                                                      70, 80, 90, 100, 110,\n",
       "                                                      None],\n",
       "                                        'max_features': ['auto', 'sqrt'],\n",
       "                                        'min_samples_leaf': [1, 2, 4],\n",
       "                                        'min_samples_split': [2, 5, 10],\n",
       "                                        'n_estimators': [200, 400, 600, 800,\n",
       "                                                         1000, 1200, 1400, 1600,\n",
       "                                                         1800, 2000]},\n",
       "                   pre_dispatch='2*n_jobs', random_state=42, refit=True,\n",
       "                   return_train_score=False, scoring=None, verbose=2)"
      ]
     },
     "execution_count": 25,
     "metadata": {},
     "output_type": "execute_result"
    }
   ],
   "source": [
    "rf = RandomForestRegressor()\n",
    "# Random search of parameters, using 3 fold cross validation, \n",
    "# search across 100 different combinations, and use all available cores\n",
    "rf_random = RandomizedSearchCV(estimator = rf, param_distributions = random_grid, n_iter = 100, cv = 3, verbose=2, random_state=42, n_jobs = -1)\n",
    "# Fit the random search model\n",
    "rf_random.fit(X_train, y_train)"
   ]
  },
  {
   "cell_type": "code",
   "execution_count": 26,
   "metadata": {},
   "outputs": [
    {
     "data": {
      "text/plain": [
       "{'n_estimators': 1000,\n",
       " 'min_samples_split': 2,\n",
       " 'min_samples_leaf': 1,\n",
       " 'max_features': 'sqrt',\n",
       " 'max_depth': 110,\n",
       " 'bootstrap': True}"
      ]
     },
     "execution_count": 26,
     "metadata": {},
     "output_type": "execute_result"
    }
   ],
   "source": [
    "#Get the best score\n",
    "rf_random.best_params_"
   ]
  },
  {
   "cell_type": "code",
   "execution_count": 27,
   "metadata": {},
   "outputs": [
    {
     "name": "stdout",
     "output_type": "stream",
     "text": [
      "RMSE:  3.182109016521087\n"
     ]
    }
   ],
   "source": [
    "rf = RandomForestRegressor(n_estimators=1000, min_samples_split=2, min_samples_leaf=1, max_features='sqrt', max_depth=20, bootstrap=True)\n",
    "model = rf.fit(X_train, y_train)\n",
    "y_pred = model.predict(X_test)\n",
    "rmse = mean_squared_error(y_pred, y_test) ** (0.5)\n",
    "print(\"RMSE: \", rmse)"
   ]
  },
  {
   "cell_type": "code",
   "execution_count": 28,
   "metadata": {},
   "outputs": [],
   "source": [
    "createCSV(model, test_data)"
   ]
  },
  {
   "cell_type": "markdown",
   "metadata": {},
   "source": [
    "### Boosting Algorithms"
   ]
  },
  {
   "cell_type": "code",
   "execution_count": 29,
   "metadata": {},
   "outputs": [
    {
     "name": "stdout",
     "output_type": "stream",
     "text": [
      "Requirement already satisfied: xgboost in c:\\users\\thakk\\anaconda3\\lib\\site-packages (1.2.1)\n",
      "Requirement already satisfied: numpy in c:\\users\\thakk\\appdata\\roaming\\python\\python37\\site-packages (from xgboost) (1.18.4)\n",
      "Requirement already satisfied: scipy in c:\\users\\thakk\\anaconda3\\lib\\site-packages (from xgboost) (1.4.1)\n"
     ]
    }
   ],
   "source": [
    "!pip install xgboost\n",
    "from xgboost import XGBRegressor"
   ]
  },
  {
   "cell_type": "code",
   "execution_count": 30,
   "metadata": {},
   "outputs": [
    {
     "name": "stdout",
     "output_type": "stream",
     "text": [
      "RMSE:  3.0217020881976895\n"
     ]
    }
   ],
   "source": [
    "xgb_params = {\n",
    "    'objective': 'reg:squarederror',\n",
    "    'booster': 'gbtree',\n",
    "    'learning_rate': 0.1,\n",
    "    'max_depth': 8,\n",
    "    'min_child_weight': 1\n",
    "}\n",
    "xgb = XGBRegressor(**xgb_params, n_estimators=700)\n",
    "model = xgb.fit(X_train, y_train)\n",
    "y_pred = model.predict(X_test)\n",
    "rmse = mean_squared_error(y_pred, y_test) ** (0.5)\n",
    "print(\"RMSE: \", rmse)"
   ]
  },
  {
   "cell_type": "code",
   "execution_count": 31,
   "metadata": {},
   "outputs": [],
   "source": [
    "model = xgb.fit(features, target)\n",
    "createCSV(model, test_data)"
   ]
  }
 ],
 "metadata": {
  "kernelspec": {
   "display_name": "Python 3",
   "language": "python",
   "name": "python3"
  },
  "language_info": {
   "codemirror_mode": {
    "name": "ipython",
    "version": 3
   },
   "file_extension": ".py",
   "mimetype": "text/x-python",
   "name": "python",
   "nbconvert_exporter": "python",
   "pygments_lexer": "ipython3",
   "version": "3.7.6"
  }
 },
 "nbformat": 4,
 "nbformat_minor": 4
}
